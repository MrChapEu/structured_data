{
 "cells": [
  {
   "cell_type": "markdown",
   "metadata": {},
   "source": [
    "### Loading images and labels\n"
   ]
  },
  {
   "cell_type": "code",
   "execution_count": 46,
   "metadata": {
    "collapsed": false
   },
   "outputs": [],
   "source": [
    "from scipy.misc import imread, imresize\n",
    "#from keras.applications.imagenet_utils import preprocess_input\n",
    "import os\n",
    "import numpy as np\n",
    "import matplotlib.pyplot as plt\n",
    "%matplotlib inline"
   ]
  },
  {
   "cell_type": "code",
   "execution_count": 11,
   "metadata": {
    "collapsed": false
   },
   "outputs": [],
   "source": [
    "data  = np.load(\"data.npy\")"
   ]
  },
  {
   "cell_type": "code",
   "execution_count": 20,
   "metadata": {
    "collapsed": false
   },
   "outputs": [
    {
     "data": {
      "text/plain": [
       "array([[[[ 0.92106336],\n",
       "         [ 0.92106336],\n",
       "         [ 0.92106336],\n",
       "         ..., \n",
       "         [ 0.85965914],\n",
       "         [ 0.92106336],\n",
       "         [ 0.92106336]],\n",
       "\n",
       "        [[ 0.85965914],\n",
       "         [ 0.85965914],\n",
       "         [ 0.85965914],\n",
       "         ..., \n",
       "         [ 0.85965914],\n",
       "         [ 0.73685068],\n",
       "         [ 0.73685068]],\n",
       "\n",
       "        [[ 0.85965914],\n",
       "         [ 0.85965914],\n",
       "         [ 0.85965914],\n",
       "         ..., \n",
       "         [ 0.73685068],\n",
       "         [ 0.61404222],\n",
       "         [ 0.61404222]],\n",
       "\n",
       "        ..., \n",
       "        [[ 0.67544645],\n",
       "         [ 0.73685068],\n",
       "         [ 0.98246759],\n",
       "         ..., \n",
       "         [ 0.85965914],\n",
       "         [ 0.85965914],\n",
       "         [ 0.85965914]],\n",
       "\n",
       "        [[ 0.55263799],\n",
       "         [ 0.55263799],\n",
       "         [ 0.67544645],\n",
       "         ..., \n",
       "         [ 0.73685068],\n",
       "         [ 0.73685068],\n",
       "         [ 0.73685068]],\n",
       "\n",
       "        [[ 1.04387188],\n",
       "         [ 1.04387188],\n",
       "         [ 1.04387188],\n",
       "         ..., \n",
       "         [ 0.79825491],\n",
       "         [ 0.79825491],\n",
       "         [ 0.79825491]]],\n",
       "\n",
       "\n",
       "       [[[ 3.215312  ],\n",
       "         [ 3.215312  ],\n",
       "         [ 3.23138857],\n",
       "         ..., \n",
       "         [ 3.2635417 ],\n",
       "         [ 3.23138857],\n",
       "         [ 3.215312  ]],\n",
       "\n",
       "        [[ 3.23138857],\n",
       "         [ 3.23138857],\n",
       "         [ 3.23138857],\n",
       "         ..., \n",
       "         [ 3.16708231],\n",
       "         [ 3.19923544],\n",
       "         [ 3.23138857]],\n",
       "\n",
       "        [[ 3.24746513],\n",
       "         [ 3.24746513],\n",
       "         [ 3.24746513],\n",
       "         ..., \n",
       "         [ 3.18315887],\n",
       "         [ 3.29569483],\n",
       "         [ 3.31177139]],\n",
       "\n",
       "        ..., \n",
       "        [[ 3.2635417 ],\n",
       "         [ 3.23138857],\n",
       "         [ 3.29569483],\n",
       "         ..., \n",
       "         [ 3.31177139],\n",
       "         [ 3.13492918],\n",
       "         [ 3.13492918]],\n",
       "\n",
       "        [[ 3.2635417 ],\n",
       "         [ 3.29569483],\n",
       "         [ 3.07062292],\n",
       "         ..., \n",
       "         [ 3.16708231],\n",
       "         [ 3.23138857],\n",
       "         [ 3.23138857]],\n",
       "\n",
       "        [[ 3.08669949],\n",
       "         [ 3.32784796],\n",
       "         [ 3.11885262],\n",
       "         ..., \n",
       "         [ 3.24746513],\n",
       "         [ 3.27961826],\n",
       "         [ 3.32784796]]],\n",
       "\n",
       "\n",
       "       [[[ 2.80675626],\n",
       "         [ 2.83348727],\n",
       "         [ 2.72656322],\n",
       "         ..., \n",
       "         [ 2.80675626],\n",
       "         [ 2.80675626],\n",
       "         [ 2.78002524]],\n",
       "\n",
       "        [[ 2.78002524],\n",
       "         [ 2.78002524],\n",
       "         [ 2.72656322],\n",
       "         ..., \n",
       "         [ 2.80675626],\n",
       "         [ 2.80675626],\n",
       "         [ 2.78002524]],\n",
       "\n",
       "        [[ 2.78002524],\n",
       "         [ 2.72656322],\n",
       "         [ 2.75329423],\n",
       "         ..., \n",
       "         [ 2.80675626],\n",
       "         [ 2.80675626],\n",
       "         [ 2.78002524]],\n",
       "\n",
       "        ..., \n",
       "        [[ 2.78002524],\n",
       "         [ 2.78002524],\n",
       "         [ 2.78002524],\n",
       "         ..., \n",
       "         [ 2.96714234],\n",
       "         [ 2.8869493 ],\n",
       "         [ 2.80675626]],\n",
       "\n",
       "        [[ 2.78002524],\n",
       "         [ 2.78002524],\n",
       "         [ 2.78002524],\n",
       "         ..., \n",
       "         [ 2.78002524],\n",
       "         [ 2.56617713],\n",
       "         [ 2.78002524]],\n",
       "\n",
       "        [[ 2.78002524],\n",
       "         [ 2.78002524],\n",
       "         [ 2.78002524],\n",
       "         ..., \n",
       "         [ 2.80675626],\n",
       "         [ 2.80675626],\n",
       "         [ 2.78002524]]],\n",
       "\n",
       "\n",
       "       ..., \n",
       "       [[[ 3.21939135],\n",
       "         [ 3.31844974],\n",
       "         [ 3.51656604],\n",
       "         ..., \n",
       "         [ 4.20997334],\n",
       "         [ 4.16044426],\n",
       "         [ 4.11091518]],\n",
       "\n",
       "        [[ 3.31844974],\n",
       "         [ 3.31844974],\n",
       "         [ 3.46703696],\n",
       "         ..., \n",
       "         [ 4.20997334],\n",
       "         [ 4.16044426],\n",
       "         [ 4.16044426]],\n",
       "\n",
       "        [[ 3.41750789],\n",
       "         [ 3.26892042],\n",
       "         [ 3.41750789],\n",
       "         ..., \n",
       "         [ 4.25950241],\n",
       "         [ 4.20997334],\n",
       "         [ 4.20997334]],\n",
       "\n",
       "        ..., \n",
       "        [[ 3.26892042],\n",
       "         [ 3.51656604],\n",
       "         [ 3.31844974],\n",
       "         ..., \n",
       "         [ 4.55667734],\n",
       "         [ 4.60620642],\n",
       "         [ 4.55667734]],\n",
       "\n",
       "        [[ 3.16986227],\n",
       "         [ 3.56609511],\n",
       "         [ 3.56609511],\n",
       "         ..., \n",
       "         [ 4.60620642],\n",
       "         [ 4.55667734],\n",
       "         [ 4.55667734]],\n",
       "\n",
       "        [[ 3.16986227],\n",
       "         [ 3.61562419],\n",
       "         [ 3.66515326],\n",
       "         ..., \n",
       "         [ 4.60620642],\n",
       "         [ 4.55667734],\n",
       "         [ 4.55667734]]],\n",
       "\n",
       "\n",
       "       [[[ 3.11480784],\n",
       "         [ 3.04005241],\n",
       "         [ 3.04005241],\n",
       "         ..., \n",
       "         [ 3.04005241],\n",
       "         [ 3.0151341 ],\n",
       "         [ 3.0151341 ]],\n",
       "\n",
       "        [[ 2.94037867],\n",
       "         [ 3.08988953],\n",
       "         [ 3.11480784],\n",
       "         ..., \n",
       "         [ 3.04005241],\n",
       "         [ 3.0151341 ],\n",
       "         [ 3.0151341 ]],\n",
       "\n",
       "        [[ 3.1397264 ],\n",
       "         [ 3.08988953],\n",
       "         [ 3.04005241],\n",
       "         ..., \n",
       "         [ 3.04005241],\n",
       "         [ 3.04005241],\n",
       "         [ 3.0151341 ]],\n",
       "\n",
       "        ..., \n",
       "        [[ 3.06497097],\n",
       "         [ 3.06497097],\n",
       "         [ 3.04005241],\n",
       "         ..., \n",
       "         [ 3.06497097],\n",
       "         [ 3.1397264 ],\n",
       "         [ 3.04005241]],\n",
       "\n",
       "        [[ 3.08988953],\n",
       "         [ 3.06497097],\n",
       "         [ 3.04005241],\n",
       "         ..., \n",
       "         [ 2.96529698],\n",
       "         [ 2.96529698],\n",
       "         [ 3.06497097]],\n",
       "\n",
       "        [[ 3.06497097],\n",
       "         [ 3.04005241],\n",
       "         [ 3.0151341 ],\n",
       "         ..., \n",
       "         [ 2.96529698],\n",
       "         [ 2.99021554],\n",
       "         [ 3.1397264 ]]],\n",
       "\n",
       "\n",
       "       [[[ 5.19128227],\n",
       "         [ 5.24832916],\n",
       "         [ 5.30537605],\n",
       "         ..., \n",
       "         [ 5.24832916],\n",
       "         [ 5.24832916],\n",
       "         [ 5.24832916]],\n",
       "\n",
       "        [[ 5.19128227],\n",
       "         [ 5.24832916],\n",
       "         [ 5.30537605],\n",
       "         ..., \n",
       "         [ 5.24832916],\n",
       "         [ 5.24832916],\n",
       "         [ 5.24832916]],\n",
       "\n",
       "        [[ 5.19128227],\n",
       "         [ 5.24832916],\n",
       "         [ 5.30537605],\n",
       "         ..., \n",
       "         [ 5.24832916],\n",
       "         [ 5.24832916],\n",
       "         [ 5.24832916]],\n",
       "\n",
       "        ..., \n",
       "        [[ 5.30537605],\n",
       "         [ 5.24832916],\n",
       "         [ 5.30537605],\n",
       "         ..., \n",
       "         [ 5.30537605],\n",
       "         [ 5.24832916],\n",
       "         [ 5.30537605]],\n",
       "\n",
       "        [[ 5.30537605],\n",
       "         [ 5.24832916],\n",
       "         [ 5.30537605],\n",
       "         ..., \n",
       "         [ 5.30537605],\n",
       "         [ 5.24832916],\n",
       "         [ 5.24832916]],\n",
       "\n",
       "        [[ 5.30537605],\n",
       "         [ 5.24832916],\n",
       "         [ 5.30537605],\n",
       "         ..., \n",
       "         [ 5.36242342],\n",
       "         [ 5.24832916],\n",
       "         [ 5.24832916]]]], dtype=float32)"
      ]
     },
     "execution_count": 20,
     "metadata": {},
     "output_type": "execute_result"
    }
   ],
   "source": [
    "data[()][\"X\"]"
   ]
  },
  {
   "cell_type": "markdown",
   "metadata": {},
   "source": [
    "### Predicting on a batch of images\n",
    "\n",
    "The predict_batch function is defined as follows:\n",
    "\n",
    "    - open each image, and resize them to img_size\n",
    "    - stack them as a batch tensor of shape (batch, img_size_x, img_size_y)\n",
    "    - preprocess the batch and make a forward pass with the model\n",
    "\n"
   ]
  },
  {
   "cell_type": "code",
   "execution_count": 6,
   "metadata": {
    "collapsed": false
   },
   "outputs": [],
   "source": [
    "#def predict_batch(model, img_batch_path, img_size=None):\n",
    "def predict_batch(folder, img_size=None):\n",
    "    img_list = []\n",
    "    label_list = []\n",
    "\n",
    "    for filename in os.listdir(folder):\n",
    "        try:\n",
    "            if filename.endswith(\".jpg\"):\n",
    "                img = imread(os.path.join(folder,filename))\n",
    "                lb = filename.split('_')[1]\n",
    "                lb = lb.lower()\n",
    "\n",
    "            if img_size:\n",
    "                img = imresize(img,img_size)\n",
    "\n",
    "            img = img.astype('float32')\n",
    "\n",
    "            # convert image to greyscale\n",
    "            img = img.sum(axis=2) / 3.\n",
    "            img /= np.std(img)\n",
    "\n",
    "            img = img[:, :, np.newaxis]\n",
    "\n",
    "            img_list.append(img)\n",
    "            label_list.append(lb)\n",
    "        except:\n",
    "            continue\n",
    "    try:\n",
    "        img_batch = np.stack(img_list, axis=0)\n",
    "    except:\n",
    "        raise ValueError(\n",
    "            'when both img_size and crop_size are None, all images '\n",
    "            'in image_paths must have the same shapes.')\n",
    "\n",
    "    #batch = preprocess_input(img_batch)\n",
    "    return img_batch, label_list \n",
    "            #model.predict(img_batch)"
   ]
  },
  {
   "cell_type": "code",
   "execution_count": 7,
   "metadata": {
    "collapsed": false
   },
   "outputs": [
    {
     "name": "stdout",
     "output_type": "stream",
     "text": [
      "output shape (10000, 32, 100, 1)\n",
      "label shape 10000\n"
     ]
    }
   ],
   "source": [
    "YOUR_FOLDER_NAME = \"Synth90k\"\n",
    "\n",
    "output, labels = predict_batch(YOUR_FOLDER_NAME, (32, 100))\n",
    "print(\"output shape\", output.shape)\n",
    "print ('label shape', len(labels))"
   ]
  },
  {
   "cell_type": "code",
   "execution_count": 232,
   "metadata": {
    "collapsed": false,
    "scrolled": true
   },
   "outputs": [
    {
     "data": {
      "text/plain": [
       "[]"
      ]
     },
     "execution_count": 232,
     "metadata": {},
     "output_type": "execute_result"
    }
   ],
   "source": [
    "labels"
   ]
  },
  {
   "cell_type": "code",
   "execution_count": 233,
   "metadata": {
    "collapsed": false
   },
   "outputs": [
    {
     "data": {
      "text/plain": [
       "(1, 32, 100, 1)"
      ]
     },
     "execution_count": 233,
     "metadata": {},
     "output_type": "execute_result"
    }
   ],
   "source": [
    "X[1:2].shape"
   ]
  },
  {
   "cell_type": "code",
   "execution_count": null,
   "metadata": {
    "collapsed": false
   },
   "outputs": [],
   "source": [
    "output[0][:,:,0].shape"
   ]
  },
  {
   "cell_type": "code",
   "execution_count": 179,
   "metadata": {
    "collapsed": false
   },
   "outputs": [
    {
     "data": {
      "text/plain": [
       "<matplotlib.image.AxesImage at 0x147691470>"
      ]
     },
     "execution_count": 179,
     "metadata": {},
     "output_type": "execute_result"
    },
    {
     "data": {
      "image/png": "[encoded data removed]",
      "text/plain": [
       "<matplotlib.figure.Figure at 0x119c7c588>"
      ]
     },
     "metadata": {},
     "output_type": "display_data"
    }
   ],
   "source": [
    "plt.imshow(X[0][:,:,0], cmap=\"gray\")"
   ]
  },
  {
   "cell_type": "markdown",
   "metadata": {},
   "source": [
    "### Conv-net model\n",
    "\n",
    "The base CNN has five convolutional layers and two fully connected layers. "
   ]
  },
  {
   "cell_type": "code",
   "execution_count": 21,
   "metadata": {
    "collapsed": false
   },
   "outputs": [
    {
     "name": "stderr",
     "output_type": "stream",
     "text": [
      "Using TensorFlow backend.\n"
     ]
    }
   ],
   "source": [
    "import keras as ks\n",
    "from keras.models import Model\n",
    "from keras import models\n",
    "from keras.layers import Flatten, Dropout, MaxPooling2D,Input\n",
    "from keras.layers import Dense, InputLayer, Convolution2D\n",
    "import logging\n",
    "import numpy as np\n",
    "\n",
    "import keras.backend as K\n",
    "import tensorflow as tf\n",
    "\n",
    "def squeeze_dim(x, axis=-1):\n",
    "    # Removes a 1-dimension from the tensor at index \"axis\"\n",
    "    return K.squeeze(x, axis=axis)\n",
    "\n",
    "\n",
    "class CNN(object):\n",
    "    \"\"\"\n",
    "    Usage for tf tensor output:\n",
    "    o = CNN(x).tf_output()\n",
    "    \"\"\"\n",
    "\n",
    "    def __init__(self, input_tensor):\n",
    "        self._build_network(input_tensor)\n",
    "\n",
    "    def _build_network(self, input_tensor):\n",
    "        \n",
    "        model_input = Input(shape=(32,100,1))#,tensor=input_tensor)\n",
    "\n",
    "        conv_layers_size = [64,128,256,512,512]\n",
    "        edges_size = [5,5,3,3,3]\n",
    "        \n",
    "        #convolutional layes\n",
    "        x = model_input \n",
    "        for i,(layer_size, edge_size) in enumerate(zip(conv_layers_size,edges_size)):\n",
    "            x = Convolution2D(\n",
    "                layer_size, edge_size, edge_size, \n",
    "                activation='relu', subsample=(1, 1),border_mode='same')(x)\n",
    "            if i <= 2 :\n",
    "                x = MaxPooling2D(pool_size=(2, 2), strides=(2, 2))(x)\n",
    "    \n",
    "        #dense layers\n",
    "        x = Flatten()(x)\n",
    "        x = Dense(4096, activation='relu')(x)\n",
    "        x = Dropout(0.5)(x)\n",
    "        x = Dense(4096)(x)\n",
    "    \n",
    "    \n",
    "        N = 23\n",
    "        outputs = []\n",
    "        for i in range(N):\n",
    "            outputs.append(Dense(37,activation='softmax')(x))\n",
    "        \n",
    "        self.model = Model(input=model_input,output=outputs)\n",
    "\n",
    "    def tf_output(self):\n",
    "        # if self.input_tensor is not None:\n",
    "        return self.model.output\n",
    "\n",
    "    def __call__(self, input_tensor):\n",
    "        return self.model(input_tensor)\n",
    "    \n",
    "    def tf_summary(self):\n",
    "        print(self.model.summary())\n",
    "\n",
    "    def save(self, filename):\n",
    "        self.model.save_weights(str(filename) + \".h5\")\n",
    "        print(\"Model saved to disk\")\n",
    "    \n",
    "    def load(self, filename):\n",
    "        self.model.save_weights(filename)\n",
    "        print(\"Load model from disk\")"
   ]
  },
  {
   "cell_type": "code",
   "execution_count": 22,
   "metadata": {
    "collapsed": false
   },
   "outputs": [],
   "source": [
    "model_cnn = CNN(tf.Variable(output))"
   ]
  },
  {
   "cell_type": "code",
   "execution_count": 210,
   "metadata": {
    "collapsed": false
   },
   "outputs": [
    {
     "name": "stdout",
     "output_type": "stream",
     "text": [
      "____________________________________________________________________________________________________\n",
      "Layer (type)                     Output Shape          Param #     Connected to                     \n",
      "====================================================================================================\n",
      "input_11 (InputLayer)            (None, 32, 100, 1)    0                                            \n",
      "____________________________________________________________________________________________________\n",
      "convolution2d_43 (Convolution2D) (None, 32, 100, 64)   1664        input_11[0][0]                   \n",
      "____________________________________________________________________________________________________\n",
      "maxpooling2d_25 (MaxPooling2D)   (None, 16, 50, 64)    0           convolution2d_43[0][0]           \n",
      "____________________________________________________________________________________________________\n",
      "convolution2d_44 (Convolution2D) (None, 16, 50, 128)   204928      maxpooling2d_25[0][0]            \n",
      "____________________________________________________________________________________________________\n",
      "maxpooling2d_26 (MaxPooling2D)   (None, 8, 25, 128)    0           convolution2d_44[0][0]           \n",
      "____________________________________________________________________________________________________\n",
      "convolution2d_45 (Convolution2D) (None, 8, 25, 256)    295168      maxpooling2d_26[0][0]            \n",
      "____________________________________________________________________________________________________\n",
      "maxpooling2d_27 (MaxPooling2D)   (None, 4, 12, 256)    0           convolution2d_45[0][0]           \n",
      "____________________________________________________________________________________________________\n",
      "convolution2d_46 (Convolution2D) (None, 4, 12, 512)    1180160     maxpooling2d_27[0][0]            \n",
      "____________________________________________________________________________________________________\n",
      "convolution2d_47 (Convolution2D) (None, 4, 12, 512)    2359808     convolution2d_46[0][0]           \n",
      "____________________________________________________________________________________________________\n",
      "flatten_9 (Flatten)              (None, 24576)         0           convolution2d_47[0][0]           \n",
      "____________________________________________________________________________________________________\n",
      "dense_179 (Dense)                (None, 4096)          100667392   flatten_9[0][0]                  \n",
      "____________________________________________________________________________________________________\n",
      "dropout_19 (Dropout)             (None, 4096)          0           dense_179[0][0]                  \n",
      "____________________________________________________________________________________________________\n",
      "dense_180 (Dense)                (None, 4096)          16781312    dropout_19[0][0]                 \n",
      "____________________________________________________________________________________________________\n",
      "dense_181 (Dense)                (None, 37)            151589      dense_180[0][0]                  \n",
      "____________________________________________________________________________________________________\n",
      "dense_182 (Dense)                (None, 37)            151589      dense_180[0][0]                  \n",
      "____________________________________________________________________________________________________\n",
      "dense_183 (Dense)                (None, 37)            151589      dense_180[0][0]                  \n",
      "____________________________________________________________________________________________________\n",
      "dense_184 (Dense)                (None, 37)            151589      dense_180[0][0]                  \n",
      "____________________________________________________________________________________________________\n",
      "dense_185 (Dense)                (None, 37)            151589      dense_180[0][0]                  \n",
      "____________________________________________________________________________________________________\n",
      "dense_186 (Dense)                (None, 37)            151589      dense_180[0][0]                  \n",
      "____________________________________________________________________________________________________\n",
      "dense_187 (Dense)                (None, 37)            151589      dense_180[0][0]                  \n",
      "____________________________________________________________________________________________________\n",
      "dense_188 (Dense)                (None, 37)            151589      dense_180[0][0]                  \n",
      "____________________________________________________________________________________________________\n",
      "dense_189 (Dense)                (None, 37)            151589      dense_180[0][0]                  \n",
      "____________________________________________________________________________________________________\n",
      "dense_190 (Dense)                (None, 37)            151589      dense_180[0][0]                  \n",
      "____________________________________________________________________________________________________\n",
      "dense_191 (Dense)                (None, 37)            151589      dense_180[0][0]                  \n",
      "____________________________________________________________________________________________________\n",
      "dense_192 (Dense)                (None, 37)            151589      dense_180[0][0]                  \n",
      "____________________________________________________________________________________________________\n",
      "dense_193 (Dense)                (None, 37)            151589      dense_180[0][0]                  \n",
      "____________________________________________________________________________________________________\n",
      "dense_194 (Dense)                (None, 37)            151589      dense_180[0][0]                  \n",
      "____________________________________________________________________________________________________\n",
      "dense_195 (Dense)                (None, 37)            151589      dense_180[0][0]                  \n",
      "____________________________________________________________________________________________________\n",
      "dense_196 (Dense)                (None, 37)            151589      dense_180[0][0]                  \n",
      "____________________________________________________________________________________________________\n",
      "dense_197 (Dense)                (None, 37)            151589      dense_180[0][0]                  \n",
      "____________________________________________________________________________________________________\n",
      "dense_198 (Dense)                (None, 37)            151589      dense_180[0][0]                  \n",
      "____________________________________________________________________________________________________\n",
      "dense_199 (Dense)                (None, 37)            151589      dense_180[0][0]                  \n",
      "____________________________________________________________________________________________________\n",
      "dense_200 (Dense)                (None, 37)            151589      dense_180[0][0]                  \n",
      "____________________________________________________________________________________________________\n",
      "dense_201 (Dense)                (None, 37)            151589      dense_180[0][0]                  \n",
      "____________________________________________________________________________________________________\n",
      "dense_202 (Dense)                (None, 37)            151589      dense_180[0][0]                  \n",
      "____________________________________________________________________________________________________\n",
      "dense_203 (Dense)                (None, 37)            151589      dense_180[0][0]                  \n",
      "====================================================================================================\n",
      "Total params: 124,976,979\n",
      "Trainable params: 124,976,979\n",
      "Non-trainable params: 0\n",
      "____________________________________________________________________________________________________\n",
      "None\n"
     ]
    }
   ],
   "source": [
    "model_cnn.tf_summary()"
   ]
  },
  {
   "cell_type": "code",
   "execution_count": 199,
   "metadata": {
    "collapsed": false
   },
   "outputs": [
    {
     "name": "stdout",
     "output_type": "stream",
     "text": [
      "Model saved to disk\n"
     ]
    }
   ],
   "source": [
    "model_cnn.save('model_null')"
   ]
  },
  {
   "cell_type": "code",
   "execution_count": 200,
   "metadata": {
    "collapsed": true
   },
   "outputs": [],
   "source": [
    "model = model_cnn.model"
   ]
  },
  {
   "cell_type": "code",
   "execution_count": null,
   "metadata": {
    "collapsed": true
   },
   "outputs": [],
   "source": [
    "from sklearn.model_selection import train_test_split "
   ]
  },
  {
   "cell_type": "code",
   "execution_count": 11,
   "metadata": {
    "collapsed": false
   },
   "outputs": [],
   "source": [
    "X, y = predict_batch(\"try\", (32, 100))"
   ]
  },
  {
   "cell_type": "code",
   "execution_count": 98,
   "metadata": {
    "collapsed": true
   },
   "outputs": [],
   "source": [
    "alphabet = \"0123456789abcdefghijklmnopqrstuvwxyz \"\n",
    "maxLen = 23\n",
    "def word_to_labels(w):\n",
    "    w_to_int = []\n",
    "    letters = list(w) + [\" \"]*(maxLen - len(w))\n",
    "    for letter in letters :\n",
    "        w_to_int.append(alphabet.index(letter))\n",
    "    return np.array(w_to_int)\n",
    "\n",
    "def labels_to_word(labels):\n",
    "    w = \"\"\n",
    "    for label in labels:\n",
    "        w+=alphabet[label]\n",
    "    \n",
    "    return w.strip()"
   ]
  },
  {
   "cell_type": "code",
   "execution_count": 100,
   "metadata": {
    "collapsed": false
   },
   "outputs": [
    {
     "data": {
      "text/plain": [
       "'hey salut'"
      ]
     },
     "execution_count": 100,
     "metadata": {},
     "output_type": "execute_result"
    }
   ],
   "source": [
    "labels_to_word(word_to_labels(\"hey salut\"))"
   ]
  },
  {
   "cell_type": "code",
   "execution_count": 153,
   "metadata": {
    "collapsed": false
   },
   "outputs": [],
   "source": [
    "Y = []\n",
    "for word in labels:\n",
    "    Y.append(word_to_labels(word))\n",
    "Y = np.array(Y)\n",
    "Y = Y.T #la première ligne contient toutes les premières letters, la second toutes les secondes lettres ..."
   ]
  },
  {
   "cell_type": "code",
   "execution_count": 154,
   "metadata": {
    "collapsed": false
   },
   "outputs": [],
   "source": [
    "output_labels = []\n",
    "for l in Y : \n",
    "    output_labels.append(to_categorical(l,37))"
   ]
  },
  {
   "cell_type": "code",
   "execution_count": 155,
   "metadata": {
    "collapsed": false
   },
   "outputs": [
    {
     "name": "stdout",
     "output_type": "stream",
     "text": [
      "(10000, 37)\n",
      "(10000, 37)\n",
      "(10000, 37)\n",
      "(10000, 37)\n",
      "(10000, 37)\n",
      "(10000, 37)\n",
      "(10000, 37)\n",
      "(10000, 37)\n",
      "(10000, 37)\n",
      "(10000, 37)\n",
      "(10000, 37)\n",
      "(10000, 37)\n",
      "(10000, 37)\n",
      "(10000, 37)\n",
      "(10000, 37)\n",
      "(10000, 37)\n",
      "(10000, 37)\n",
      "(10000, 37)\n",
      "(10000, 37)\n",
      "(10000, 37)\n",
      "(10000, 37)\n",
      "(10000, 37)\n",
      "(10000, 37)\n"
     ]
    }
   ],
   "source": [
    "for o in output_labels:\n",
    "    print(o.shape)"
   ]
  },
  {
   "cell_type": "code",
   "execution_count": 158,
   "metadata": {
    "collapsed": false
   },
   "outputs": [
    {
     "data": {
      "text/plain": [
       "array([ 0.,  1.,  0.,  0.,  0.,  0.,  0.,  0.,  0.,  0.,  0.,  0.,  0.,\n",
       "        0.,  0.,  0.,  0.,  0.,  0.,  0.,  0.,  0.,  0.,  0.,  0.,  0.,\n",
       "        0.,  0.,  0.,  0.,  0.,  0.,  0.,  0.,  0.,  0.,  0.])"
      ]
     },
     "execution_count": 158,
     "metadata": {},
     "output_type": "execute_result"
    }
   ],
   "source": [
    "output_labels[0][0,:]"
   ]
  },
  {
   "cell_type": "code",
   "execution_count": 118,
   "metadata": {
    "collapsed": false
   },
   "outputs": [
    {
     "data": {
      "text/plain": [
       "(23, 10000)"
      ]
     },
     "execution_count": 118,
     "metadata": {},
     "output_type": "execute_result"
    }
   ],
   "source": [
    "Y.T.shape"
   ]
  },
  {
   "cell_type": "code",
   "execution_count": 126,
   "metadata": {
    "collapsed": false
   },
   "outputs": [
    {
     "data": {
      "text/plain": [
       "'m'"
      ]
     },
     "execution_count": 126,
     "metadata": {},
     "output_type": "execute_result"
    }
   ],
   "source": [
    "labels_to_word(Y.T[0,100:101])"
   ]
  },
  {
   "cell_type": "code",
   "execution_count": 76,
   "metadata": {
    "collapsed": true
   },
   "outputs": [],
   "source": [
    "alphabet = \"0123456789abcdefghijklmnopqrstuvwxyz \"\n",
    "V = len(list(alphabet))"
   ]
  },
  {
   "cell_type": "code",
   "execution_count": 61,
   "metadata": {
    "collapsed": true
   },
   "outputs": [],
   "source": [
    "from keras.utils.np_utils import to_categorical"
   ]
  },
  {
   "cell_type": "code",
   "execution_count": 67,
   "metadata": {
    "collapsed": false
   },
   "outputs": [],
   "source": [
    "def build_vocabulary(tokenized_sequences):\n",
    "    rev_vocabulary = []\n",
    "    unique_tokens = set()\n",
    "    for tokens in tokenized_sequences:\n",
    "        unique_tokens.update(tokens)\n",
    "    rev_vocabulary += sorted(unique_tokens)\n",
    "    vocabulary = {}\n",
    "    for i, token in enumerate(rev_vocabulary):\n",
    "        vocabulary[token] = i\n",
    "    return vocabulary, rev_vocabulary"
   ]
  },
  {
   "cell_type": "code",
   "execution_count": 69,
   "metadata": {
    "collapsed": true
   },
   "outputs": [],
   "source": [
    "vocabulary, rev_vocabulary = build_vocabulary(list(alphabet))"
   ]
  },
  {
   "cell_type": "code",
   "execution_count": 72,
   "metadata": {
    "collapsed": false
   },
   "outputs": [
    {
     "data": {
      "text/plain": [
       "['a',\n",
       " 'b',\n",
       " 'c',\n",
       " ' ',\n",
       " ' ',\n",
       " ' ',\n",
       " ' ',\n",
       " ' ',\n",
       " ' ',\n",
       " ' ',\n",
       " ' ',\n",
       " ' ',\n",
       " ' ',\n",
       " ' ',\n",
       " ' ',\n",
       " ' ',\n",
       " ' ',\n",
       " ' ',\n",
       " ' ',\n",
       " ' ',\n",
       " ' ',\n",
       " ' ',\n",
       " ' ']"
      ]
     },
     "execution_count": 72,
     "metadata": {},
     "output_type": "execute_result"
    }
   ],
   "source": [
    "word_to_labels(\"abc\")"
   ]
  },
  {
   "cell_type": "code",
   "execution_count": 70,
   "metadata": {
    "collapsed": false
   },
   "outputs": [],
   "source": [
    "def vectorize(w):\n",
    "    letters = word_to_labels(w)\n",
    "    vector = np.zeros((maxLen,V))\n",
    "    for i, letter in enumerate(letters) :\n",
    "        vector[i,vocabulary[letter]]=1\n",
    "    return vector"
   ]
  },
  {
   "cell_type": "code",
   "execution_count": 73,
   "metadata": {
    "collapsed": false
   },
   "outputs": [
    {
     "data": {
      "text/plain": [
       "(23, 37)"
      ]
     },
     "execution_count": 73,
     "metadata": {},
     "output_type": "execute_result"
    }
   ],
   "source": [
    "vectorize(\"abc\").shape"
   ]
  },
  {
   "cell_type": "code",
   "execution_count": 32,
   "metadata": {
    "collapsed": false
   },
   "outputs": [
    {
     "data": {
      "text/plain": [
       "(23, 37)"
      ]
     },
     "execution_count": 32,
     "metadata": {},
     "output_type": "execute_result"
    }
   ],
   "source": [
    "vectorize('abcade').shape"
   ]
  },
  {
   "cell_type": "code",
   "execution_count": 191,
   "metadata": {
    "collapsed": false
   },
   "outputs": [],
   "source": [
    "Y = []\n",
    "labels = []\n",
    "for word in y :\n",
    "    #v = vectorize(word)\n",
    "    Y.append(vectorize(word))\n",
    "    \n",
    "# Y.append(vectorize(word))\n",
    "Y = np.array(Y)\n",
    "Y = np.rollaxis(Y,1)\n",
    "#Y = Y.T\n",
    "Y_ = []\n",
    "for row in Y:\n",
    "    Y_.append(row)"
   ]
  },
  {
   "cell_type": "code",
   "execution_count": 169,
   "metadata": {
    "collapsed": false
   },
   "outputs": [],
   "source": [
    "w = vectorize(word)"
   ]
  },
  {
   "cell_type": "code",
   "execution_count": 192,
   "metadata": {
    "collapsed": false
   },
   "outputs": [
    {
     "data": {
      "text/plain": [
       "(23, 523, 37)"
      ]
     },
     "execution_count": 192,
     "metadata": {},
     "output_type": "execute_result"
    }
   ],
   "source": [
    "Y.shape"
   ]
  },
  {
   "cell_type": "code",
   "execution_count": 206,
   "metadata": {
    "collapsed": false
   },
   "outputs": [
    {
     "data": {
      "text/plain": [
       "23"
      ]
     },
     "execution_count": 206,
     "metadata": {},
     "output_type": "execute_result"
    }
   ],
   "source": [
    "len(Y_)"
   ]
  },
  {
   "cell_type": "code",
   "execution_count": 157,
   "metadata": {
    "collapsed": false
   },
   "outputs": [
    {
     "ename": "NameError",
     "evalue": "name 'Y_' is not defined",
     "output_type": "error",
     "traceback": [
      "\u001b[0;31m---------------------------------------------------------------------------\u001b[0m",
      "\u001b[0;31mNameError\u001b[0m                                 Traceback (most recent call last)",
      "\u001b[0;32m<ipython-input-157-5b744c775286>\u001b[0m in \u001b[0;36m<module>\u001b[0;34m()\u001b[0m\n\u001b[0;32m----> 1\u001b[0;31m \u001b[0mY_\u001b[0m\u001b[0;34m\u001b[0m\u001b[0m\n\u001b[0m",
      "\u001b[0;31mNameError\u001b[0m: name 'Y_' is not defined"
     ]
    }
   ],
   "source": [
    "Y_"
   ]
  },
  {
   "cell_type": "code",
   "execution_count": null,
   "metadata": {
    "collapsed": false
   },
   "outputs": [],
   "source": [
    "#from sklearn.model_selection import train_test_split \n",
    "#X, y = predict_batch(\"try\", (32, 100))\n",
    "#X_train, X_test, y_train, y_test = train_test_split(\n",
    "#...     X, y, test_size=0.4, random_state=0)"
   ]
  },
  {
   "cell_type": "code",
   "execution_count": 211,
   "metadata": {
    "collapsed": false
   },
   "outputs": [
    {
     "name": "stdout",
     "output_type": "stream",
     "text": [
      "Train on 470 samples, validate on 53 samples\n",
      "Epoch 1/15\n",
      "81s - loss: 120.9547 - dense_181_loss: 13.4220 - dense_182_loss: 12.1586 - dense_183_loss: 13.3131 - dense_184_loss: 13.4676 - dense_185_loss: 13.2484 - dense_186_loss: 12.4473 - dense_187_loss: 13.7342 - dense_188_loss: 8.2421 - dense_189_loss: 6.0816 - dense_190_loss: 4.2640 - dense_191_loss: 2.5836 - dense_192_loss: 1.4176 - dense_193_loss: 1.0747 - dense_194_loss: 0.8689 - dense_195_loss: 0.6289 - dense_196_loss: 0.5260 - dense_197_loss: 0.5260 - dense_198_loss: 0.4917 - dense_199_loss: 0.4917 - dense_200_loss: 0.4917 - dense_201_loss: 0.4917 - dense_202_loss: 0.4917 - dense_203_loss: 0.4917 - dense_181_acc: 0.0596 - dense_182_acc: 0.1362 - dense_183_acc: 0.0660 - dense_184_acc: 0.0681 - dense_185_acc: 0.0723 - dense_186_acc: 0.1255 - dense_187_acc: 0.0489 - dense_188_acc: 0.3830 - dense_189_acc: 0.5191 - dense_190_acc: 0.6298 - dense_191_acc: 0.7362 - dense_192_acc: 0.8149 - dense_193_acc: 0.8298 - dense_194_acc: 0.8596 - dense_195_acc: 0.8638 - dense_196_acc: 0.8660 - dense_197_acc: 0.8617 - dense_198_acc: 0.8638 - dense_199_acc: 0.8638 - dense_200_acc: 0.8638 - dense_201_acc: 0.8638 - dense_202_acc: 0.8660 - dense_203_acc: 0.8638 - val_loss: 127.7283 - val_dense_181_loss: 15.2058 - val_dense_182_loss: 13.9893 - val_dense_183_loss: 14.9016 - val_dense_184_loss: 14.9016 - val_dense_185_loss: 14.2934 - val_dense_186_loss: 14.9016 - val_dense_187_loss: 15.2058 - val_dense_188_loss: 8.8193 - val_dense_189_loss: 6.6905 - val_dense_190_loss: 2.7370 - val_dense_191_loss: 2.4329 - val_dense_192_loss: 1.8247 - val_dense_193_loss: 1.5206 - val_dense_194_loss: 0.3041 - val_dense_195_loss: 1.1921e-07 - val_dense_196_loss: 1.1921e-07 - val_dense_197_loss: 1.1921e-07 - val_dense_198_loss: 1.1921e-07 - val_dense_199_loss: 1.1921e-07 - val_dense_200_loss: 1.1921e-07 - val_dense_201_loss: 1.1921e-07 - val_dense_202_loss: 1.1921e-07 - val_dense_203_loss: 1.1921e-07 - val_dense_181_acc: 0.0566 - val_dense_182_acc: 0.1321 - val_dense_183_acc: 0.0755 - val_dense_184_acc: 0.0755 - val_dense_185_acc: 0.1132 - val_dense_186_acc: 0.0755 - val_dense_187_acc: 0.0566 - val_dense_188_acc: 0.4528 - val_dense_189_acc: 0.5849 - val_dense_190_acc: 0.8302 - val_dense_191_acc: 0.8491 - val_dense_192_acc: 0.8868 - val_dense_193_acc: 0.9057 - val_dense_194_acc: 0.9811 - val_dense_195_acc: 1.0000 - val_dense_196_acc: 1.0000 - val_dense_197_acc: 1.0000 - val_dense_198_acc: 1.0000 - val_dense_199_acc: 1.0000 - val_dense_200_acc: 1.0000 - val_dense_201_acc: 1.0000 - val_dense_202_acc: 1.0000 - val_dense_203_acc: 1.0000\n",
      "Epoch 2/15\n",
      "65s - loss: 128.0532 - dense_181_loss: 15.0207 - dense_182_loss: 13.9919 - dense_183_loss: 14.8835 - dense_184_loss: 15.0207 - dense_185_loss: 14.8492 - dense_186_loss: 13.9576 - dense_187_loss: 15.5351 - dense_188_loss: 9.1222 - dense_189_loss: 6.4815 - dense_190_loss: 4.3210 - dense_191_loss: 2.4692 - dense_192_loss: 1.0631 - dense_193_loss: 0.6516 - dense_194_loss: 0.4115 - dense_195_loss: 0.1715 - dense_196_loss: 0.0686 - dense_197_loss: 0.0343 - dense_198_loss: 1.1921e-07 - dense_199_loss: 1.1921e-07 - dense_200_loss: 1.1921e-07 - dense_201_loss: 1.1921e-07 - dense_202_loss: 1.1921e-07 - dense_203_loss: 1.1921e-07 - dense_181_acc: 0.0681 - dense_182_acc: 0.1319 - dense_183_acc: 0.0766 - dense_184_acc: 0.0681 - dense_185_acc: 0.0787 - dense_186_acc: 0.1340 - dense_187_acc: 0.0362 - dense_188_acc: 0.4340 - dense_189_acc: 0.5979 - dense_190_acc: 0.7319 - dense_191_acc: 0.8468 - dense_192_acc: 0.9340 - dense_193_acc: 0.9596 - dense_194_acc: 0.9745 - dense_195_acc: 0.9894 - dense_196_acc: 0.9957 - dense_197_acc: 0.9979 - dense_198_acc: 1.0000 - dense_199_acc: 1.0000 - dense_200_acc: 1.0000 - dense_201_acc: 1.0000 - dense_202_acc: 1.0000 - dense_203_acc: 1.0000 - val_loss: 127.7283 - val_dense_181_loss: 15.2058 - val_dense_182_loss: 13.9893 - val_dense_183_loss: 14.9016 - val_dense_184_loss: 14.9016 - val_dense_185_loss: 14.2934 - val_dense_186_loss: 14.9016 - val_dense_187_loss: 15.2058 - val_dense_188_loss: 8.8193 - val_dense_189_loss: 6.6905 - val_dense_190_loss: 2.7370 - val_dense_191_loss: 2.4329 - val_dense_192_loss: 1.8247 - val_dense_193_loss: 1.5206 - val_dense_194_loss: 0.3041 - val_dense_195_loss: 1.1921e-07 - val_dense_196_loss: 1.1921e-07 - val_dense_197_loss: 1.1921e-07 - val_dense_198_loss: 1.1921e-07 - val_dense_199_loss: 1.1921e-07 - val_dense_200_loss: 1.1921e-07 - val_dense_201_loss: 1.1921e-07 - val_dense_202_loss: 1.1921e-07 - val_dense_203_loss: 1.1921e-07 - val_dense_181_acc: 0.0566 - val_dense_182_acc: 0.1321 - val_dense_183_acc: 0.0755 - val_dense_184_acc: 0.0755 - val_dense_185_acc: 0.1132 - val_dense_186_acc: 0.0755 - val_dense_187_acc: 0.0566 - val_dense_188_acc: 0.4528 - val_dense_189_acc: 0.5849 - val_dense_190_acc: 0.8302 - val_dense_191_acc: 0.8491 - val_dense_192_acc: 0.8868 - val_dense_193_acc: 0.9057 - val_dense_194_acc: 0.9811 - val_dense_195_acc: 1.0000 - val_dense_196_acc: 1.0000 - val_dense_197_acc: 1.0000 - val_dense_198_acc: 1.0000 - val_dense_199_acc: 1.0000 - val_dense_200_acc: 1.0000 - val_dense_201_acc: 1.0000 - val_dense_202_acc: 1.0000 - val_dense_203_acc: 1.0000\n",
      "Epoch 3/15\n",
      "64s - loss: 128.0874 - dense_181_loss: 15.0207 - dense_182_loss: 13.9919 - dense_183_loss: 14.8835 - dense_184_loss: 15.1579 - dense_185_loss: 14.7463 - dense_186_loss: 13.9576 - dense_187_loss: 15.5351 - dense_188_loss: 9.1222 - dense_189_loss: 6.4815 - dense_190_loss: 4.3210 - dense_191_loss: 2.4692 - dense_192_loss: 1.0631 - dense_193_loss: 0.6516 - dense_194_loss: 0.4115 - dense_195_loss: 0.1715 - dense_196_loss: 0.0686 - dense_197_loss: 0.0343 - dense_198_loss: 1.1921e-07 - dense_199_loss: 1.1921e-07 - dense_200_loss: 1.1921e-07 - dense_201_loss: 1.1921e-07 - dense_202_loss: 1.1921e-07 - dense_203_loss: 1.1921e-07 - dense_181_acc: 0.0681 - dense_182_acc: 0.1319 - dense_183_acc: 0.0766 - dense_184_acc: 0.0596 - dense_185_acc: 0.0851 - dense_186_acc: 0.1340 - dense_187_acc: 0.0362 - dense_188_acc: 0.4340 - dense_189_acc: 0.5979 - dense_190_acc: 0.7319 - dense_191_acc: 0.8468 - dense_192_acc: 0.9340 - dense_193_acc: 0.9596 - dense_194_acc: 0.9745 - dense_195_acc: 0.9894 - dense_196_acc: 0.9957 - dense_197_acc: 0.9979 - dense_198_acc: 1.0000 - dense_199_acc: 1.0000 - dense_200_acc: 1.0000 - dense_201_acc: 1.0000 - dense_202_acc: 1.0000 - dense_203_acc: 1.0000 - val_loss: 127.7283 - val_dense_181_loss: 15.2058 - val_dense_182_loss: 13.9893 - val_dense_183_loss: 14.9016 - val_dense_184_loss: 14.9016 - val_dense_185_loss: 14.2934 - val_dense_186_loss: 14.9016 - val_dense_187_loss: 15.2058 - val_dense_188_loss: 8.8193 - val_dense_189_loss: 6.6905 - val_dense_190_loss: 2.7370 - val_dense_191_loss: 2.4329 - val_dense_192_loss: 1.8247 - val_dense_193_loss: 1.5206 - val_dense_194_loss: 0.3041 - val_dense_195_loss: 1.1921e-07 - val_dense_196_loss: 1.1921e-07 - val_dense_197_loss: 1.1921e-07 - val_dense_198_loss: 1.1921e-07 - val_dense_199_loss: 1.1921e-07 - val_dense_200_loss: 1.1921e-07 - val_dense_201_loss: 1.1921e-07 - val_dense_202_loss: 1.1921e-07 - val_dense_203_loss: 1.1921e-07 - val_dense_181_acc: 0.0566 - val_dense_182_acc: 0.1321 - val_dense_183_acc: 0.0755 - val_dense_184_acc: 0.0755 - val_dense_185_acc: 0.1132 - val_dense_186_acc: 0.0755 - val_dense_187_acc: 0.0566 - val_dense_188_acc: 0.4528 - val_dense_189_acc: 0.5849 - val_dense_190_acc: 0.8302 - val_dense_191_acc: 0.8491 - val_dense_192_acc: 0.8868 - val_dense_193_acc: 0.9057 - val_dense_194_acc: 0.9811 - val_dense_195_acc: 1.0000 - val_dense_196_acc: 1.0000 - val_dense_197_acc: 1.0000 - val_dense_198_acc: 1.0000 - val_dense_199_acc: 1.0000 - val_dense_200_acc: 1.0000 - val_dense_201_acc: 1.0000 - val_dense_202_acc: 1.0000 - val_dense_203_acc: 1.0000\n",
      "Epoch 4/15\n",
      "107s - loss: 127.9846 - dense_181_loss: 15.0207 - dense_182_loss: 13.9919 - dense_183_loss: 14.8835 - dense_184_loss: 15.0207 - dense_185_loss: 14.7463 - dense_186_loss: 13.9576 - dense_187_loss: 15.5351 - dense_188_loss: 9.1565 - dense_189_loss: 6.4815 - dense_190_loss: 4.3210 - dense_191_loss: 2.4692 - dense_192_loss: 1.0631 - dense_193_loss: 0.6516 - dense_194_loss: 0.4115 - dense_195_loss: 0.1715 - dense_196_loss: 0.0686 - dense_197_loss: 0.0343 - dense_198_loss: 1.1921e-07 - dense_199_loss: 1.1921e-07 - dense_200_loss: 1.1921e-07 - dense_201_loss: 1.1921e-07 - dense_202_loss: 1.1921e-07 - dense_203_loss: 1.1921e-07 - dense_181_acc: 0.0681 - dense_182_acc: 0.1319 - dense_183_acc: 0.0766 - dense_184_acc: 0.0681 - dense_185_acc: 0.0851 - dense_186_acc: 0.1340 - dense_187_acc: 0.0362 - dense_188_acc: 0.4319 - dense_189_acc: 0.5979 - dense_190_acc: 0.7319 - dense_191_acc: 0.8468 - dense_192_acc: 0.9340 - dense_193_acc: 0.9596 - dense_194_acc: 0.9745 - dense_195_acc: 0.9894 - dense_196_acc: 0.9957 - dense_197_acc: 0.9979 - dense_198_acc: 1.0000 - dense_199_acc: 1.0000 - dense_200_acc: 1.0000 - dense_201_acc: 1.0000 - dense_202_acc: 1.0000 - dense_203_acc: 1.0000 - val_loss: 127.7283 - val_dense_181_loss: 15.2058 - val_dense_182_loss: 13.9893 - val_dense_183_loss: 14.9016 - val_dense_184_loss: 14.9016 - val_dense_185_loss: 14.2934 - val_dense_186_loss: 14.9016 - val_dense_187_loss: 15.2058 - val_dense_188_loss: 8.8193 - val_dense_189_loss: 6.6905 - val_dense_190_loss: 2.7370 - val_dense_191_loss: 2.4329 - val_dense_192_loss: 1.8247 - val_dense_193_loss: 1.5206 - val_dense_194_loss: 0.3041 - val_dense_195_loss: 1.1921e-07 - val_dense_196_loss: 1.1921e-07 - val_dense_197_loss: 1.1921e-07 - val_dense_198_loss: 1.1921e-07 - val_dense_199_loss: 1.1921e-07 - val_dense_200_loss: 1.1921e-07 - val_dense_201_loss: 1.1921e-07 - val_dense_202_loss: 1.1921e-07 - val_dense_203_loss: 1.1921e-07 - val_dense_181_acc: 0.0566 - val_dense_182_acc: 0.1321 - val_dense_183_acc: 0.0755 - val_dense_184_acc: 0.0755 - val_dense_185_acc: 0.1132 - val_dense_186_acc: 0.0755 - val_dense_187_acc: 0.0566 - val_dense_188_acc: 0.4528 - val_dense_189_acc: 0.5849 - val_dense_190_acc: 0.8302 - val_dense_191_acc: 0.8491 - val_dense_192_acc: 0.8868 - val_dense_193_acc: 0.9057 - val_dense_194_acc: 0.9811 - val_dense_195_acc: 1.0000 - val_dense_196_acc: 1.0000 - val_dense_197_acc: 1.0000 - val_dense_198_acc: 1.0000 - val_dense_199_acc: 1.0000 - val_dense_200_acc: 1.0000 - val_dense_201_acc: 1.0000 - val_dense_202_acc: 1.0000 - val_dense_203_acc: 1.0000\n",
      "Epoch 5/15\n",
      "108s - loss: 127.9503 - dense_181_loss: 15.0207 - dense_182_loss: 13.9919 - dense_183_loss: 14.8835 - dense_184_loss: 15.0550 - dense_185_loss: 14.7121 - dense_186_loss: 13.9576 - dense_187_loss: 15.5351 - dense_188_loss: 9.1222 - dense_189_loss: 6.4815 - dense_190_loss: 4.3210 - dense_191_loss: 2.4692 - dense_192_loss: 1.0631 - dense_193_loss: 0.6516 - dense_194_loss: 0.4115 - dense_195_loss: 0.1715 - dense_196_loss: 0.0686 - dense_197_loss: 0.0343 - dense_198_loss: 1.1921e-07 - dense_199_loss: 1.1921e-07 - dense_200_loss: 1.1921e-07 - dense_201_loss: 1.1921e-07 - dense_202_loss: 1.1921e-07 - dense_203_loss: 1.1921e-07 - dense_181_acc: 0.0681 - dense_182_acc: 0.1319 - dense_183_acc: 0.0766 - dense_184_acc: 0.0660 - dense_185_acc: 0.0872 - dense_186_acc: 0.1340 - dense_187_acc: 0.0362 - dense_188_acc: 0.4340 - dense_189_acc: 0.5979 - dense_190_acc: 0.7319 - dense_191_acc: 0.8468 - dense_192_acc: 0.9340 - dense_193_acc: 0.9596 - dense_194_acc: 0.9745 - dense_195_acc: 0.9894 - dense_196_acc: 0.9957 - dense_197_acc: 0.9979 - dense_198_acc: 1.0000 - dense_199_acc: 1.0000 - dense_200_acc: 1.0000 - dense_201_acc: 1.0000 - dense_202_acc: 1.0000 - dense_203_acc: 1.0000 - val_loss: 127.7283 - val_dense_181_loss: 15.2058 - val_dense_182_loss: 13.9893 - val_dense_183_loss: 14.9016 - val_dense_184_loss: 14.9016 - val_dense_185_loss: 14.2934 - val_dense_186_loss: 14.9016 - val_dense_187_loss: 15.2058 - val_dense_188_loss: 8.8193 - val_dense_189_loss: 6.6905 - val_dense_190_loss: 2.7370 - val_dense_191_loss: 2.4329 - val_dense_192_loss: 1.8247 - val_dense_193_loss: 1.5206 - val_dense_194_loss: 0.3041 - val_dense_195_loss: 1.1921e-07 - val_dense_196_loss: 1.1921e-07 - val_dense_197_loss: 1.1921e-07 - val_dense_198_loss: 1.1921e-07 - val_dense_199_loss: 1.1921e-07 - val_dense_200_loss: 1.1921e-07 - val_dense_201_loss: 1.1921e-07 - val_dense_202_loss: 1.1921e-07 - val_dense_203_loss: 1.1921e-07 - val_dense_181_acc: 0.0566 - val_dense_182_acc: 0.1321 - val_dense_183_acc: 0.0755 - val_dense_184_acc: 0.0755 - val_dense_185_acc: 0.1132 - val_dense_186_acc: 0.0755 - val_dense_187_acc: 0.0566 - val_dense_188_acc: 0.4528 - val_dense_189_acc: 0.5849 - val_dense_190_acc: 0.8302 - val_dense_191_acc: 0.8491 - val_dense_192_acc: 0.8868 - val_dense_193_acc: 0.9057 - val_dense_194_acc: 0.9811 - val_dense_195_acc: 1.0000 - val_dense_196_acc: 1.0000 - val_dense_197_acc: 1.0000 - val_dense_198_acc: 1.0000 - val_dense_199_acc: 1.0000 - val_dense_200_acc: 1.0000 - val_dense_201_acc: 1.0000 - val_dense_202_acc: 1.0000 - val_dense_203_acc: 1.0000\n",
      "Epoch 6/15\n",
      "108s - loss: 128.0532 - dense_181_loss: 15.0207 - dense_182_loss: 13.9919 - dense_183_loss: 14.8835 - dense_184_loss: 15.1922 - dense_185_loss: 14.6778 - dense_186_loss: 13.9576 - dense_187_loss: 15.5351 - dense_188_loss: 9.1222 - dense_189_loss: 6.4815 - dense_190_loss: 4.3210 - dense_191_loss: 2.4692 - dense_192_loss: 1.0631 - dense_193_loss: 0.6516 - dense_194_loss: 0.4115 - dense_195_loss: 0.1715 - dense_196_loss: 0.0686 - dense_197_loss: 0.0343 - dense_198_loss: 1.1921e-07 - dense_199_loss: 1.1921e-07 - dense_200_loss: 1.1921e-07 - dense_201_loss: 1.1921e-07 - dense_202_loss: 1.1921e-07 - dense_203_loss: 1.1921e-07 - dense_181_acc: 0.0681 - dense_182_acc: 0.1319 - dense_183_acc: 0.0766 - dense_184_acc: 0.0574 - dense_185_acc: 0.0894 - dense_186_acc: 0.1340 - dense_187_acc: 0.0362 - dense_188_acc: 0.4340 - dense_189_acc: 0.5979 - dense_190_acc: 0.7319 - dense_191_acc: 0.8468 - dense_192_acc: 0.9340 - dense_193_acc: 0.9596 - dense_194_acc: 0.9745 - dense_195_acc: 0.9894 - dense_196_acc: 0.9957 - dense_197_acc: 0.9979 - dense_198_acc: 1.0000 - dense_199_acc: 1.0000 - dense_200_acc: 1.0000 - dense_201_acc: 1.0000 - dense_202_acc: 1.0000 - dense_203_acc: 1.0000 - val_loss: 127.7283 - val_dense_181_loss: 15.2058 - val_dense_182_loss: 13.9893 - val_dense_183_loss: 14.9016 - val_dense_184_loss: 14.9016 - val_dense_185_loss: 14.2934 - val_dense_186_loss: 14.9016 - val_dense_187_loss: 15.2058 - val_dense_188_loss: 8.8193 - val_dense_189_loss: 6.6905 - val_dense_190_loss: 2.7370 - val_dense_191_loss: 2.4329 - val_dense_192_loss: 1.8247 - val_dense_193_loss: 1.5206 - val_dense_194_loss: 0.3041 - val_dense_195_loss: 1.1921e-07 - val_dense_196_loss: 1.1921e-07 - val_dense_197_loss: 1.1921e-07 - val_dense_198_loss: 1.1921e-07 - val_dense_199_loss: 1.1921e-07 - val_dense_200_loss: 1.1921e-07 - val_dense_201_loss: 1.1921e-07 - val_dense_202_loss: 1.1921e-07 - val_dense_203_loss: 1.1921e-07 - val_dense_181_acc: 0.0566 - val_dense_182_acc: 0.1321 - val_dense_183_acc: 0.0755 - val_dense_184_acc: 0.0755 - val_dense_185_acc: 0.1132 - val_dense_186_acc: 0.0755 - val_dense_187_acc: 0.0566 - val_dense_188_acc: 0.4528 - val_dense_189_acc: 0.5849 - val_dense_190_acc: 0.8302 - val_dense_191_acc: 0.8491 - val_dense_192_acc: 0.8868 - val_dense_193_acc: 0.9057 - val_dense_194_acc: 0.9811 - val_dense_195_acc: 1.0000 - val_dense_196_acc: 1.0000 - val_dense_197_acc: 1.0000 - val_dense_198_acc: 1.0000 - val_dense_199_acc: 1.0000 - val_dense_200_acc: 1.0000 - val_dense_201_acc: 1.0000 - val_dense_202_acc: 1.0000 - val_dense_203_acc: 1.0000\n",
      "Epoch 7/15\n",
      "112s - loss: 127.8817 - dense_181_loss: 15.0207 - dense_182_loss: 13.9919 - dense_183_loss: 14.8835 - dense_184_loss: 14.9864 - dense_185_loss: 14.7121 - dense_186_loss: 13.9576 - dense_187_loss: 15.5351 - dense_188_loss: 9.1222 - dense_189_loss: 6.4815 - dense_190_loss: 4.3210 - dense_191_loss: 2.4692 - dense_192_loss: 1.0631 - dense_193_loss: 0.6516 - dense_194_loss: 0.4115 - dense_195_loss: 0.1715 - dense_196_loss: 0.0686 - dense_197_loss: 0.0343 - dense_198_loss: 1.1921e-07 - dense_199_loss: 1.1921e-07 - dense_200_loss: 1.1921e-07 - dense_201_loss: 1.1921e-07 - dense_202_loss: 1.1921e-07 - dense_203_loss: 1.1921e-07 - dense_181_acc: 0.0681 - dense_182_acc: 0.1319 - dense_183_acc: 0.0766 - dense_184_acc: 0.0702 - dense_185_acc: 0.0872 - dense_186_acc: 0.1340 - dense_187_acc: 0.0362 - dense_188_acc: 0.4340 - dense_189_acc: 0.5979 - dense_190_acc: 0.7319 - dense_191_acc: 0.8468 - dense_192_acc: 0.9340 - dense_193_acc: 0.9596 - dense_194_acc: 0.9745 - dense_195_acc: 0.9894 - dense_196_acc: 0.9957 - dense_197_acc: 0.9979 - dense_198_acc: 1.0000 - dense_199_acc: 1.0000 - dense_200_acc: 1.0000 - dense_201_acc: 1.0000 - dense_202_acc: 1.0000 - dense_203_acc: 1.0000 - val_loss: 127.7283 - val_dense_181_loss: 15.2058 - val_dense_182_loss: 13.9893 - val_dense_183_loss: 14.9016 - val_dense_184_loss: 14.9016 - val_dense_185_loss: 14.2934 - val_dense_186_loss: 14.9016 - val_dense_187_loss: 15.2058 - val_dense_188_loss: 8.8193 - val_dense_189_loss: 6.6905 - val_dense_190_loss: 2.7370 - val_dense_191_loss: 2.4329 - val_dense_192_loss: 1.8247 - val_dense_193_loss: 1.5206 - val_dense_194_loss: 0.3041 - val_dense_195_loss: 1.1921e-07 - val_dense_196_loss: 1.1921e-07 - val_dense_197_loss: 1.1921e-07 - val_dense_198_loss: 1.1921e-07 - val_dense_199_loss: 1.1921e-07 - val_dense_200_loss: 1.1921e-07 - val_dense_201_loss: 1.1921e-07 - val_dense_202_loss: 1.1921e-07 - val_dense_203_loss: 1.1921e-07 - val_dense_181_acc: 0.0566 - val_dense_182_acc: 0.1321 - val_dense_183_acc: 0.0755 - val_dense_184_acc: 0.0755 - val_dense_185_acc: 0.1132 - val_dense_186_acc: 0.0755 - val_dense_187_acc: 0.0566 - val_dense_188_acc: 0.4528 - val_dense_189_acc: 0.5849 - val_dense_190_acc: 0.8302 - val_dense_191_acc: 0.8491 - val_dense_192_acc: 0.8868 - val_dense_193_acc: 0.9057 - val_dense_194_acc: 0.9811 - val_dense_195_acc: 1.0000 - val_dense_196_acc: 1.0000 - val_dense_197_acc: 1.0000 - val_dense_198_acc: 1.0000 - val_dense_199_acc: 1.0000 - val_dense_200_acc: 1.0000 - val_dense_201_acc: 1.0000 - val_dense_202_acc: 1.0000 - val_dense_203_acc: 1.0000\n",
      "Epoch 8/15\n",
      "77s - loss: 128.0532 - dense_181_loss: 15.0207 - dense_182_loss: 13.9919 - dense_183_loss: 14.8835 - dense_184_loss: 15.0893 - dense_185_loss: 14.7806 - dense_186_loss: 13.9576 - dense_187_loss: 15.5351 - dense_188_loss: 9.1222 - dense_189_loss: 6.4815 - dense_190_loss: 4.3210 - dense_191_loss: 2.4692 - dense_192_loss: 1.0631 - dense_193_loss: 0.6516 - dense_194_loss: 0.4115 - dense_195_loss: 0.1715 - dense_196_loss: 0.0686 - dense_197_loss: 0.0343 - dense_198_loss: 1.1921e-07 - dense_199_loss: 1.1921e-07 - dense_200_loss: 1.1921e-07 - dense_201_loss: 1.1921e-07 - dense_202_loss: 1.1921e-07 - dense_203_loss: 1.1921e-07 - dense_181_acc: 0.0681 - dense_182_acc: 0.1319 - dense_183_acc: 0.0766 - dense_184_acc: 0.0638 - dense_185_acc: 0.0830 - dense_186_acc: 0.1340 - dense_187_acc: 0.0362 - dense_188_acc: 0.4340 - dense_189_acc: 0.5979 - dense_190_acc: 0.7319 - dense_191_acc: 0.8468 - dense_192_acc: 0.9340 - dense_193_acc: 0.9596 - dense_194_acc: 0.9745 - dense_195_acc: 0.9894 - dense_196_acc: 0.9957 - dense_197_acc: 0.9979 - dense_198_acc: 1.0000 - dense_199_acc: 1.0000 - dense_200_acc: 1.0000 - dense_201_acc: 1.0000 - dense_202_acc: 1.0000 - dense_203_acc: 1.0000 - val_loss: 127.7283 - val_dense_181_loss: 15.2058 - val_dense_182_loss: 13.9893 - val_dense_183_loss: 14.9016 - val_dense_184_loss: 14.9016 - val_dense_185_loss: 14.2934 - val_dense_186_loss: 14.9016 - val_dense_187_loss: 15.2058 - val_dense_188_loss: 8.8193 - val_dense_189_loss: 6.6905 - val_dense_190_loss: 2.7370 - val_dense_191_loss: 2.4329 - val_dense_192_loss: 1.8247 - val_dense_193_loss: 1.5206 - val_dense_194_loss: 0.3041 - val_dense_195_loss: 1.1921e-07 - val_dense_196_loss: 1.1921e-07 - val_dense_197_loss: 1.1921e-07 - val_dense_198_loss: 1.1921e-07 - val_dense_199_loss: 1.1921e-07 - val_dense_200_loss: 1.1921e-07 - val_dense_201_loss: 1.1921e-07 - val_dense_202_loss: 1.1921e-07 - val_dense_203_loss: 1.1921e-07 - val_dense_181_acc: 0.0566 - val_dense_182_acc: 0.1321 - val_dense_183_acc: 0.0755 - val_dense_184_acc: 0.0755 - val_dense_185_acc: 0.1132 - val_dense_186_acc: 0.0755 - val_dense_187_acc: 0.0566 - val_dense_188_acc: 0.4528 - val_dense_189_acc: 0.5849 - val_dense_190_acc: 0.8302 - val_dense_191_acc: 0.8491 - val_dense_192_acc: 0.8868 - val_dense_193_acc: 0.9057 - val_dense_194_acc: 0.9811 - val_dense_195_acc: 1.0000 - val_dense_196_acc: 1.0000 - val_dense_197_acc: 1.0000 - val_dense_198_acc: 1.0000 - val_dense_199_acc: 1.0000 - val_dense_200_acc: 1.0000 - val_dense_201_acc: 1.0000 - val_dense_202_acc: 1.0000 - val_dense_203_acc: 1.0000\n",
      "Epoch 9/15\n",
      "104s - loss: 127.8131 - dense_181_loss: 15.0207 - dense_182_loss: 13.9919 - dense_183_loss: 14.8835 - dense_184_loss: 14.9521 - dense_185_loss: 14.6778 - dense_186_loss: 13.9576 - dense_187_loss: 15.5351 - dense_188_loss: 9.1222 - dense_189_loss: 6.4815 - dense_190_loss: 4.3210 - dense_191_loss: 2.4692 - dense_192_loss: 1.0631 - dense_193_loss: 0.6516 - dense_194_loss: 0.4115 - dense_195_loss: 0.1715 - dense_196_loss: 0.0686 - dense_197_loss: 0.0343 - dense_198_loss: 1.1921e-07 - dense_199_loss: 1.1921e-07 - dense_200_loss: 1.1921e-07 - dense_201_loss: 1.1921e-07 - dense_202_loss: 1.1921e-07 - dense_203_loss: 1.1921e-07 - dense_181_acc: 0.0681 - dense_182_acc: 0.1319 - dense_183_acc: 0.0766 - dense_184_acc: 0.0723 - dense_185_acc: 0.0894 - dense_186_acc: 0.1340 - dense_187_acc: 0.0362 - dense_188_acc: 0.4340 - dense_189_acc: 0.5979 - dense_190_acc: 0.7319 - dense_191_acc: 0.8468 - dense_192_acc: 0.9340 - dense_193_acc: 0.9596 - dense_194_acc: 0.9745 - dense_195_acc: 0.9894 - dense_196_acc: 0.9957 - dense_197_acc: 0.9979 - dense_198_acc: 1.0000 - dense_199_acc: 1.0000 - dense_200_acc: 1.0000 - dense_201_acc: 1.0000 - dense_202_acc: 1.0000 - dense_203_acc: 1.0000 - val_loss: 127.7283 - val_dense_181_loss: 15.2058 - val_dense_182_loss: 13.9893 - val_dense_183_loss: 14.9016 - val_dense_184_loss: 14.9016 - val_dense_185_loss: 14.2934 - val_dense_186_loss: 14.9016 - val_dense_187_loss: 15.2058 - val_dense_188_loss: 8.8193 - val_dense_189_loss: 6.6905 - val_dense_190_loss: 2.7370 - val_dense_191_loss: 2.4329 - val_dense_192_loss: 1.8247 - val_dense_193_loss: 1.5206 - val_dense_194_loss: 0.3041 - val_dense_195_loss: 1.1921e-07 - val_dense_196_loss: 1.1921e-07 - val_dense_197_loss: 1.1921e-07 - val_dense_198_loss: 1.1921e-07 - val_dense_199_loss: 1.1921e-07 - val_dense_200_loss: 1.1921e-07 - val_dense_201_loss: 1.1921e-07 - val_dense_202_loss: 1.1921e-07 - val_dense_203_loss: 1.1921e-07 - val_dense_181_acc: 0.0566 - val_dense_182_acc: 0.1321 - val_dense_183_acc: 0.0755 - val_dense_184_acc: 0.0755 - val_dense_185_acc: 0.1132 - val_dense_186_acc: 0.0755 - val_dense_187_acc: 0.0566 - val_dense_188_acc: 0.4528 - val_dense_189_acc: 0.5849 - val_dense_190_acc: 0.8302 - val_dense_191_acc: 0.8491 - val_dense_192_acc: 0.8868 - val_dense_193_acc: 0.9057 - val_dense_194_acc: 0.9811 - val_dense_195_acc: 1.0000 - val_dense_196_acc: 1.0000 - val_dense_197_acc: 1.0000 - val_dense_198_acc: 1.0000 - val_dense_199_acc: 1.0000 - val_dense_200_acc: 1.0000 - val_dense_201_acc: 1.0000 - val_dense_202_acc: 1.0000 - val_dense_203_acc: 1.0000\n",
      "Epoch 10/15\n",
      "127s - loss: 127.9160 - dense_181_loss: 15.0207 - dense_182_loss: 13.9919 - dense_183_loss: 14.8835 - dense_184_loss: 14.9521 - dense_185_loss: 14.7806 - dense_186_loss: 13.9576 - dense_187_loss: 15.5351 - dense_188_loss: 9.1222 - dense_189_loss: 6.4815 - dense_190_loss: 4.3210 - dense_191_loss: 2.4692 - dense_192_loss: 1.0631 - dense_193_loss: 0.6516 - dense_194_loss: 0.4115 - dense_195_loss: 0.1715 - dense_196_loss: 0.0686 - dense_197_loss: 0.0343 - dense_198_loss: 1.1921e-07 - dense_199_loss: 1.1921e-07 - dense_200_loss: 1.1921e-07 - dense_201_loss: 1.1921e-07 - dense_202_loss: 1.1921e-07 - dense_203_loss: 1.1921e-07 - dense_181_acc: 0.0681 - dense_182_acc: 0.1319 - dense_183_acc: 0.0766 - dense_184_acc: 0.0723 - dense_185_acc: 0.0830 - dense_186_acc: 0.1340 - dense_187_acc: 0.0362 - dense_188_acc: 0.4340 - dense_189_acc: 0.5979 - dense_190_acc: 0.7319 - dense_191_acc: 0.8468 - dense_192_acc: 0.9340 - dense_193_acc: 0.9596 - dense_194_acc: 0.9745 - dense_195_acc: 0.9894 - dense_196_acc: 0.9957 - dense_197_acc: 0.9979 - dense_198_acc: 1.0000 - dense_199_acc: 1.0000 - dense_200_acc: 1.0000 - dense_201_acc: 1.0000 - dense_202_acc: 1.0000 - dense_203_acc: 1.0000 - val_loss: 127.7283 - val_dense_181_loss: 15.2058 - val_dense_182_loss: 13.9893 - val_dense_183_loss: 14.9016 - val_dense_184_loss: 14.9016 - val_dense_185_loss: 14.2934 - val_dense_186_loss: 14.9016 - val_dense_187_loss: 15.2058 - val_dense_188_loss: 8.8193 - val_dense_189_loss: 6.6905 - val_dense_190_loss: 2.7370 - val_dense_191_loss: 2.4329 - val_dense_192_loss: 1.8247 - val_dense_193_loss: 1.5206 - val_dense_194_loss: 0.3041 - val_dense_195_loss: 1.1921e-07 - val_dense_196_loss: 1.1921e-07 - val_dense_197_loss: 1.1921e-07 - val_dense_198_loss: 1.1921e-07 - val_dense_199_loss: 1.1921e-07 - val_dense_200_loss: 1.1921e-07 - val_dense_201_loss: 1.1921e-07 - val_dense_202_loss: 1.1921e-07 - val_dense_203_loss: 1.1921e-07 - val_dense_181_acc: 0.0566 - val_dense_182_acc: 0.1321 - val_dense_183_acc: 0.0755 - val_dense_184_acc: 0.0755 - val_dense_185_acc: 0.1132 - val_dense_186_acc: 0.0755 - val_dense_187_acc: 0.0566 - val_dense_188_acc: 0.4528 - val_dense_189_acc: 0.5849 - val_dense_190_acc: 0.8302 - val_dense_191_acc: 0.8491 - val_dense_192_acc: 0.8868 - val_dense_193_acc: 0.9057 - val_dense_194_acc: 0.9811 - val_dense_195_acc: 1.0000 - val_dense_196_acc: 1.0000 - val_dense_197_acc: 1.0000 - val_dense_198_acc: 1.0000 - val_dense_199_acc: 1.0000 - val_dense_200_acc: 1.0000 - val_dense_201_acc: 1.0000 - val_dense_202_acc: 1.0000 - val_dense_203_acc: 1.0000\n",
      "Epoch 11/15\n",
      "129s - loss: 128.1217 - dense_181_loss: 15.0207 - dense_182_loss: 13.9919 - dense_183_loss: 14.8835 - dense_184_loss: 15.2265 - dense_185_loss: 14.7121 - dense_186_loss: 13.9576 - dense_187_loss: 15.5351 - dense_188_loss: 9.1222 - dense_189_loss: 6.4815 - dense_190_loss: 4.3210 - dense_191_loss: 2.4692 - dense_192_loss: 1.0631 - dense_193_loss: 0.6516 - dense_194_loss: 0.4115 - dense_195_loss: 0.1715 - dense_196_loss: 0.0686 - dense_197_loss: 0.0343 - dense_198_loss: 1.1921e-07 - dense_199_loss: 1.1921e-07 - dense_200_loss: 1.1921e-07 - dense_201_loss: 1.1921e-07 - dense_202_loss: 1.1921e-07 - dense_203_loss: 1.1921e-07 - dense_181_acc: 0.0681 - dense_182_acc: 0.1319 - dense_183_acc: 0.0766 - dense_184_acc: 0.0553 - dense_185_acc: 0.0872 - dense_186_acc: 0.1340 - dense_187_acc: 0.0362 - dense_188_acc: 0.4340 - dense_189_acc: 0.5979 - dense_190_acc: 0.7319 - dense_191_acc: 0.8468 - dense_192_acc: 0.9340 - dense_193_acc: 0.9596 - dense_194_acc: 0.9745 - dense_195_acc: 0.9894 - dense_196_acc: 0.9957 - dense_197_acc: 0.9979 - dense_198_acc: 1.0000 - dense_199_acc: 1.0000 - dense_200_acc: 1.0000 - dense_201_acc: 1.0000 - dense_202_acc: 1.0000 - dense_203_acc: 1.0000 - val_loss: 127.7283 - val_dense_181_loss: 15.2058 - val_dense_182_loss: 13.9893 - val_dense_183_loss: 14.9016 - val_dense_184_loss: 14.9016 - val_dense_185_loss: 14.2934 - val_dense_186_loss: 14.9016 - val_dense_187_loss: 15.2058 - val_dense_188_loss: 8.8193 - val_dense_189_loss: 6.6905 - val_dense_190_loss: 2.7370 - val_dense_191_loss: 2.4329 - val_dense_192_loss: 1.8247 - val_dense_193_loss: 1.5206 - val_dense_194_loss: 0.3041 - val_dense_195_loss: 1.1921e-07 - val_dense_196_loss: 1.1921e-07 - val_dense_197_loss: 1.1921e-07 - val_dense_198_loss: 1.1921e-07 - val_dense_199_loss: 1.1921e-07 - val_dense_200_loss: 1.1921e-07 - val_dense_201_loss: 1.1921e-07 - val_dense_202_loss: 1.1921e-07 - val_dense_203_loss: 1.1921e-07 - val_dense_181_acc: 0.0566 - val_dense_182_acc: 0.1321 - val_dense_183_acc: 0.0755 - val_dense_184_acc: 0.0755 - val_dense_185_acc: 0.1132 - val_dense_186_acc: 0.0755 - val_dense_187_acc: 0.0566 - val_dense_188_acc: 0.4528 - val_dense_189_acc: 0.5849 - val_dense_190_acc: 0.8302 - val_dense_191_acc: 0.8491 - val_dense_192_acc: 0.8868 - val_dense_193_acc: 0.9057 - val_dense_194_acc: 0.9811 - val_dense_195_acc: 1.0000 - val_dense_196_acc: 1.0000 - val_dense_197_acc: 1.0000 - val_dense_198_acc: 1.0000 - val_dense_199_acc: 1.0000 - val_dense_200_acc: 1.0000 - val_dense_201_acc: 1.0000 - val_dense_202_acc: 1.0000 - val_dense_203_acc: 1.0000\n",
      "Epoch 12/15\n",
      "132s - loss: 128.1903 - dense_181_loss: 15.0207 - dense_182_loss: 13.9919 - dense_183_loss: 14.8835 - dense_184_loss: 15.3293 - dense_185_loss: 14.6778 - dense_186_loss: 13.9576 - dense_187_loss: 15.5351 - dense_188_loss: 9.1222 - dense_189_loss: 6.4815 - dense_190_loss: 4.3210 - dense_191_loss: 2.4692 - dense_192_loss: 1.0631 - dense_193_loss: 0.6516 - dense_194_loss: 0.4115 - dense_195_loss: 0.1715 - dense_196_loss: 0.0686 - dense_197_loss: 0.0343 - dense_198_loss: 1.1921e-07 - dense_199_loss: 1.1921e-07 - dense_200_loss: 1.1921e-07 - dense_201_loss: 1.1921e-07 - dense_202_loss: 1.1921e-07 - dense_203_loss: 1.1921e-07 - dense_181_acc: 0.0681 - dense_182_acc: 0.1319 - dense_183_acc: 0.0766 - dense_184_acc: 0.0489 - dense_185_acc: 0.0894 - dense_186_acc: 0.1340 - dense_187_acc: 0.0362 - dense_188_acc: 0.4340 - dense_189_acc: 0.5979 - dense_190_acc: 0.7319 - dense_191_acc: 0.8468 - dense_192_acc: 0.9340 - dense_193_acc: 0.9596 - dense_194_acc: 0.9745 - dense_195_acc: 0.9894 - dense_196_acc: 0.9957 - dense_197_acc: 0.9979 - dense_198_acc: 1.0000 - dense_199_acc: 1.0000 - dense_200_acc: 1.0000 - dense_201_acc: 1.0000 - dense_202_acc: 1.0000 - dense_203_acc: 1.0000 - val_loss: 127.7283 - val_dense_181_loss: 15.2058 - val_dense_182_loss: 13.9893 - val_dense_183_loss: 14.9016 - val_dense_184_loss: 14.9016 - val_dense_185_loss: 14.2934 - val_dense_186_loss: 14.9016 - val_dense_187_loss: 15.2058 - val_dense_188_loss: 8.8193 - val_dense_189_loss: 6.6905 - val_dense_190_loss: 2.7370 - val_dense_191_loss: 2.4329 - val_dense_192_loss: 1.8247 - val_dense_193_loss: 1.5206 - val_dense_194_loss: 0.3041 - val_dense_195_loss: 1.1921e-07 - val_dense_196_loss: 1.1921e-07 - val_dense_197_loss: 1.1921e-07 - val_dense_198_loss: 1.1921e-07 - val_dense_199_loss: 1.1921e-07 - val_dense_200_loss: 1.1921e-07 - val_dense_201_loss: 1.1921e-07 - val_dense_202_loss: 1.1921e-07 - val_dense_203_loss: 1.1921e-07 - val_dense_181_acc: 0.0566 - val_dense_182_acc: 0.1321 - val_dense_183_acc: 0.0755 - val_dense_184_acc: 0.0755 - val_dense_185_acc: 0.1132 - val_dense_186_acc: 0.0755 - val_dense_187_acc: 0.0566 - val_dense_188_acc: 0.4528 - val_dense_189_acc: 0.5849 - val_dense_190_acc: 0.8302 - val_dense_191_acc: 0.8491 - val_dense_192_acc: 0.8868 - val_dense_193_acc: 0.9057 - val_dense_194_acc: 0.9811 - val_dense_195_acc: 1.0000 - val_dense_196_acc: 1.0000 - val_dense_197_acc: 1.0000 - val_dense_198_acc: 1.0000 - val_dense_199_acc: 1.0000 - val_dense_200_acc: 1.0000 - val_dense_201_acc: 1.0000 - val_dense_202_acc: 1.0000 - val_dense_203_acc: 1.0000\n",
      "Epoch 13/15\n",
      "105s - loss: 127.9846 - dense_181_loss: 15.0207 - dense_182_loss: 13.9919 - dense_183_loss: 14.8835 - dense_184_loss: 15.0893 - dense_185_loss: 14.7121 - dense_186_loss: 13.9576 - dense_187_loss: 15.5351 - dense_188_loss: 9.1222 - dense_189_loss: 6.4815 - dense_190_loss: 4.3210 - dense_191_loss: 2.4692 - dense_192_loss: 1.0631 - dense_193_loss: 0.6516 - dense_194_loss: 0.4115 - dense_195_loss: 0.1715 - dense_196_loss: 0.0686 - dense_197_loss: 0.0343 - dense_198_loss: 1.1921e-07 - dense_199_loss: 1.1921e-07 - dense_200_loss: 1.1921e-07 - dense_201_loss: 1.1921e-07 - dense_202_loss: 1.1921e-07 - dense_203_loss: 1.1921e-07 - dense_181_acc: 0.0681 - dense_182_acc: 0.1319 - dense_183_acc: 0.0766 - dense_184_acc: 0.0638 - dense_185_acc: 0.0872 - dense_186_acc: 0.1340 - dense_187_acc: 0.0362 - dense_188_acc: 0.4340 - dense_189_acc: 0.5979 - dense_190_acc: 0.7319 - dense_191_acc: 0.8468 - dense_192_acc: 0.9340 - dense_193_acc: 0.9596 - dense_194_acc: 0.9745 - dense_195_acc: 0.9894 - dense_196_acc: 0.9957 - dense_197_acc: 0.9979 - dense_198_acc: 1.0000 - dense_199_acc: 1.0000 - dense_200_acc: 1.0000 - dense_201_acc: 1.0000 - dense_202_acc: 1.0000 - dense_203_acc: 1.0000 - val_loss: 127.7283 - val_dense_181_loss: 15.2058 - val_dense_182_loss: 13.9893 - val_dense_183_loss: 14.9016 - val_dense_184_loss: 14.9016 - val_dense_185_loss: 14.2934 - val_dense_186_loss: 14.9016 - val_dense_187_loss: 15.2058 - val_dense_188_loss: 8.8193 - val_dense_189_loss: 6.6905 - val_dense_190_loss: 2.7370 - val_dense_191_loss: 2.4329 - val_dense_192_loss: 1.8247 - val_dense_193_loss: 1.5206 - val_dense_194_loss: 0.3041 - val_dense_195_loss: 1.1921e-07 - val_dense_196_loss: 1.1921e-07 - val_dense_197_loss: 1.1921e-07 - val_dense_198_loss: 1.1921e-07 - val_dense_199_loss: 1.1921e-07 - val_dense_200_loss: 1.1921e-07 - val_dense_201_loss: 1.1921e-07 - val_dense_202_loss: 1.1921e-07 - val_dense_203_loss: 1.1921e-07 - val_dense_181_acc: 0.0566 - val_dense_182_acc: 0.1321 - val_dense_183_acc: 0.0755 - val_dense_184_acc: 0.0755 - val_dense_185_acc: 0.1132 - val_dense_186_acc: 0.0755 - val_dense_187_acc: 0.0566 - val_dense_188_acc: 0.4528 - val_dense_189_acc: 0.5849 - val_dense_190_acc: 0.8302 - val_dense_191_acc: 0.8491 - val_dense_192_acc: 0.8868 - val_dense_193_acc: 0.9057 - val_dense_194_acc: 0.9811 - val_dense_195_acc: 1.0000 - val_dense_196_acc: 1.0000 - val_dense_197_acc: 1.0000 - val_dense_198_acc: 1.0000 - val_dense_199_acc: 1.0000 - val_dense_200_acc: 1.0000 - val_dense_201_acc: 1.0000 - val_dense_202_acc: 1.0000 - val_dense_203_acc: 1.0000\n",
      "Epoch 14/15\n",
      "115s - loss: 128.0531 - dense_181_loss: 15.0207 - dense_182_loss: 13.9919 - dense_183_loss: 14.8835 - dense_184_loss: 15.1579 - dense_185_loss: 14.7121 - dense_186_loss: 13.9576 - dense_187_loss: 15.5351 - dense_188_loss: 9.1222 - dense_189_loss: 6.4815 - dense_190_loss: 4.3210 - dense_191_loss: 2.4692 - dense_192_loss: 1.0631 - dense_193_loss: 0.6516 - dense_194_loss: 0.4115 - dense_195_loss: 0.1715 - dense_196_loss: 0.0686 - dense_197_loss: 0.0343 - dense_198_loss: 1.1921e-07 - dense_199_loss: 1.1921e-07 - dense_200_loss: 1.1921e-07 - dense_201_loss: 1.1921e-07 - dense_202_loss: 1.1921e-07 - dense_203_loss: 1.1921e-07 - dense_181_acc: 0.0681 - dense_182_acc: 0.1319 - dense_183_acc: 0.0766 - dense_184_acc: 0.0596 - dense_185_acc: 0.0872 - dense_186_acc: 0.1340 - dense_187_acc: 0.0362 - dense_188_acc: 0.4340 - dense_189_acc: 0.5979 - dense_190_acc: 0.7319 - dense_191_acc: 0.8468 - dense_192_acc: 0.9340 - dense_193_acc: 0.9596 - dense_194_acc: 0.9745 - dense_195_acc: 0.9894 - dense_196_acc: 0.9957 - dense_197_acc: 0.9979 - dense_198_acc: 1.0000 - dense_199_acc: 1.0000 - dense_200_acc: 1.0000 - dense_201_acc: 1.0000 - dense_202_acc: 1.0000 - dense_203_acc: 1.0000 - val_loss: 127.7283 - val_dense_181_loss: 15.2058 - val_dense_182_loss: 13.9893 - val_dense_183_loss: 14.9016 - val_dense_184_loss: 14.9016 - val_dense_185_loss: 14.2934 - val_dense_186_loss: 14.9016 - val_dense_187_loss: 15.2058 - val_dense_188_loss: 8.8193 - val_dense_189_loss: 6.6905 - val_dense_190_loss: 2.7370 - val_dense_191_loss: 2.4329 - val_dense_192_loss: 1.8247 - val_dense_193_loss: 1.5206 - val_dense_194_loss: 0.3041 - val_dense_195_loss: 1.1921e-07 - val_dense_196_loss: 1.1921e-07 - val_dense_197_loss: 1.1921e-07 - val_dense_198_loss: 1.1921e-07 - val_dense_199_loss: 1.1921e-07 - val_dense_200_loss: 1.1921e-07 - val_dense_201_loss: 1.1921e-07 - val_dense_202_loss: 1.1921e-07 - val_dense_203_loss: 1.1921e-07 - val_dense_181_acc: 0.0566 - val_dense_182_acc: 0.1321 - val_dense_183_acc: 0.0755 - val_dense_184_acc: 0.0755 - val_dense_185_acc: 0.1132 - val_dense_186_acc: 0.0755 - val_dense_187_acc: 0.0566 - val_dense_188_acc: 0.4528 - val_dense_189_acc: 0.5849 - val_dense_190_acc: 0.8302 - val_dense_191_acc: 0.8491 - val_dense_192_acc: 0.8868 - val_dense_193_acc: 0.9057 - val_dense_194_acc: 0.9811 - val_dense_195_acc: 1.0000 - val_dense_196_acc: 1.0000 - val_dense_197_acc: 1.0000 - val_dense_198_acc: 1.0000 - val_dense_199_acc: 1.0000 - val_dense_200_acc: 1.0000 - val_dense_201_acc: 1.0000 - val_dense_202_acc: 1.0000 - val_dense_203_acc: 1.0000\n",
      "Epoch 15/15\n",
      "119s - loss: 127.8474 - dense_181_loss: 15.0207 - dense_182_loss: 13.9919 - dense_183_loss: 14.8835 - dense_184_loss: 14.9521 - dense_185_loss: 14.7121 - dense_186_loss: 13.9576 - dense_187_loss: 15.5351 - dense_188_loss: 9.1222 - dense_189_loss: 6.4815 - dense_190_loss: 4.3210 - dense_191_loss: 2.4692 - dense_192_loss: 1.0631 - dense_193_loss: 0.6516 - dense_194_loss: 0.4115 - dense_195_loss: 0.1715 - dense_196_loss: 0.0686 - dense_197_loss: 0.0343 - dense_198_loss: 1.1921e-07 - dense_199_loss: 1.1921e-07 - dense_200_loss: 1.1921e-07 - dense_201_loss: 1.1921e-07 - dense_202_loss: 1.1921e-07 - dense_203_loss: 1.1921e-07 - dense_181_acc: 0.0681 - dense_182_acc: 0.1319 - dense_183_acc: 0.0766 - dense_184_acc: 0.0723 - dense_185_acc: 0.0872 - dense_186_acc: 0.1340 - dense_187_acc: 0.0362 - dense_188_acc: 0.4340 - dense_189_acc: 0.5979 - dense_190_acc: 0.7319 - dense_191_acc: 0.8468 - dense_192_acc: 0.9340 - dense_193_acc: 0.9596 - dense_194_acc: 0.9745 - dense_195_acc: 0.9894 - dense_196_acc: 0.9957 - dense_197_acc: 0.9979 - dense_198_acc: 1.0000 - dense_199_acc: 1.0000 - dense_200_acc: 1.0000 - dense_201_acc: 1.0000 - dense_202_acc: 1.0000 - dense_203_acc: 1.0000 - val_loss: 127.7283 - val_dense_181_loss: 15.2058 - val_dense_182_loss: 13.9893 - val_dense_183_loss: 14.9016 - val_dense_184_loss: 14.9016 - val_dense_185_loss: 14.2934 - val_dense_186_loss: 14.9016 - val_dense_187_loss: 15.2058 - val_dense_188_loss: 8.8193 - val_dense_189_loss: 6.6905 - val_dense_190_loss: 2.7370 - val_dense_191_loss: 2.4329 - val_dense_192_loss: 1.8247 - val_dense_193_loss: 1.5206 - val_dense_194_loss: 0.3041 - val_dense_195_loss: 1.1921e-07 - val_dense_196_loss: 1.1921e-07 - val_dense_197_loss: 1.1921e-07 - val_dense_198_loss: 1.1921e-07 - val_dense_199_loss: 1.1921e-07 - val_dense_200_loss: 1.1921e-07 - val_dense_201_loss: 1.1921e-07 - val_dense_202_loss: 1.1921e-07 - val_dense_203_loss: 1.1921e-07 - val_dense_181_acc: 0.0566 - val_dense_182_acc: 0.1321 - val_dense_183_acc: 0.0755 - val_dense_184_acc: 0.0755 - val_dense_185_acc: 0.1132 - val_dense_186_acc: 0.0755 - val_dense_187_acc: 0.0566 - val_dense_188_acc: 0.4528 - val_dense_189_acc: 0.5849 - val_dense_190_acc: 0.8302 - val_dense_191_acc: 0.8491 - val_dense_192_acc: 0.8868 - val_dense_193_acc: 0.9057 - val_dense_194_acc: 0.9811 - val_dense_195_acc: 1.0000 - val_dense_196_acc: 1.0000 - val_dense_197_acc: 1.0000 - val_dense_198_acc: 1.0000 - val_dense_199_acc: 1.0000 - val_dense_200_acc: 1.0000 - val_dense_201_acc: 1.0000 - val_dense_202_acc: 1.0000 - val_dense_203_acc: 1.0000\n"
     ]
    },
    {
     "data": {
      "text/plain": [
       "<keras.callbacks.History at 0x37daf0cc0>"
      ]
     },
     "execution_count": 211,
     "metadata": {},
     "output_type": "execute_result"
    }
   ],
   "source": [
    "model = model_cnn.model\n",
    "model.compile(loss = 'categorical_crossentropy', optimizer='adam',metrics=['accuracy'])\n",
    "model.fit(X, Y_,\n",
    "          batch_size=64, nb_epoch=15, \n",
    "          validation_split=0.1,shuffle=True, verbose=2)\n",
    "#model.metrics\n",
    "        "
   ]
  },
  {
   "cell_type": "code",
   "execution_count": 47,
   "metadata": {
    "collapsed": false
   },
   "outputs": [
    {
     "name": "stdout",
     "output_type": "stream",
     "text": [
      "Load model from disk\n"
     ]
    }
   ],
   "source": [
    "model_cnn.load(\"model1.h5\")\n",
    "model = model_cnn.model"
   ]
  },
  {
   "cell_type": "code",
   "execution_count": 48,
   "metadata": {
    "collapsed": true
   },
   "outputs": [],
   "source": [
    "data = np.load(\"data.npy\")\n",
    "X = data[()][\"X\"]\n",
    "y = data[()][\"y\"]\n"
   ]
  },
  {
   "cell_type": "code",
   "execution_count": 50,
   "metadata": {
    "collapsed": false
   },
   "outputs": [
    {
     "data": {
      "text/plain": [
       "(10000, 37)"
      ]
     },
     "execution_count": 50,
     "metadata": {},
     "output_type": "execute_result"
    }
   ],
   "source": [
    "y[1].shape"
   ]
  },
  {
   "cell_type": "code",
   "execution_count": 52,
   "metadata": {
    "collapsed": false
   },
   "outputs": [
    {
     "data": {
      "text/plain": [
       "23"
      ]
     },
     "execution_count": 52,
     "metadata": {},
     "output_type": "execute_result"
    }
   ],
   "source": [
    "len(y)"
   ]
  },
  {
   "cell_type": "code",
   "execution_count": null,
   "metadata": {
    "collapsed": true
   },
   "outputs": [],
   "source": []
  },
  {
   "cell_type": "code",
   "execution_count": 43,
   "metadata": {
    "collapsed": false
   },
   "outputs": [],
   "source": [
    "y_pred = model.predict(X[1:2])"
   ]
  },
  {
   "cell_type": "code",
   "execution_count": 44,
   "metadata": {
    "collapsed": false
   },
   "outputs": [
    {
     "ename": "IndexError",
     "evalue": "index 0 is out of bounds for axis 0 with size 0",
     "output_type": "error",
     "traceback": [
      "\u001b[0;31m---------------------------------------------------------------------------\u001b[0m",
      "\u001b[0;31mIndexError\u001b[0m                                Traceback (most recent call last)",
      "\u001b[0;32m<ipython-input-44-4145239ac453>\u001b[0m in \u001b[0;36m<module>\u001b[0;34m()\u001b[0m\n\u001b[1;32m      1\u001b[0m \u001b[0ms\u001b[0m \u001b[0;34m=\u001b[0m \u001b[0;34m\"\"\u001b[0m\u001b[0;34m\u001b[0m\u001b[0m\n\u001b[1;32m      2\u001b[0m \u001b[0;32mfor\u001b[0m \u001b[0mi\u001b[0m \u001b[0;32min\u001b[0m \u001b[0mrange\u001b[0m\u001b[0;34m(\u001b[0m\u001b[0;36m23\u001b[0m\u001b[0;34m)\u001b[0m\u001b[0;34m:\u001b[0m\u001b[0;34m\u001b[0m\u001b[0m\n\u001b[0;32m----> 3\u001b[0;31m     \u001b[0ms\u001b[0m \u001b[0;34m+=\u001b[0m \u001b[0mrev_vocabulary\u001b[0m\u001b[0;34m[\u001b[0m\u001b[0mnp\u001b[0m\u001b[0;34m.\u001b[0m\u001b[0mwhere\u001b[0m\u001b[0;34m(\u001b[0m\u001b[0my_pred\u001b[0m\u001b[0;34m[\u001b[0m\u001b[0mi\u001b[0m\u001b[0;34m]\u001b[0m\u001b[0;34m[\u001b[0m\u001b[0;36m0\u001b[0m\u001b[0;34m]\u001b[0m\u001b[0;34m==\u001b[0m\u001b[0;36m1\u001b[0m\u001b[0;34m)\u001b[0m\u001b[0;34m[\u001b[0m\u001b[0;36m0\u001b[0m\u001b[0;34m]\u001b[0m\u001b[0;34m[\u001b[0m\u001b[0;36m0\u001b[0m\u001b[0;34m]\u001b[0m\u001b[0;34m]\u001b[0m\u001b[0;34m\u001b[0m\u001b[0m\n\u001b[0m\u001b[1;32m      4\u001b[0m \u001b[0mprint\u001b[0m\u001b[0;34m(\u001b[0m\u001b[0ms\u001b[0m\u001b[0;34m)\u001b[0m\u001b[0;34m\u001b[0m\u001b[0m\n",
      "\u001b[0;31mIndexError\u001b[0m: index 0 is out of bounds for axis 0 with size 0"
     ]
    }
   ],
   "source": [
    "s = \"\"\n",
    "for i in range(23):\n",
    "    s += rev_vocabulary[np.where(y_pred[i][0]==1)[0][0]]\n",
    "print(s)"
   ]
  },
  {
   "cell_type": "code",
   "execution_count": 45,
   "metadata": {
    "collapsed": false
   },
   "outputs": [
    {
     "data": {
      "text/plain": [
       "[array([[ 0.02702687,  0.02702701,  0.02702659,  0.02702659,  0.0270269 ,\n",
       "          0.02702591,  0.02702723,  0.02702699,  0.02702776,  0.02702725,\n",
       "          0.02702658,  0.02702628,  0.02702715,  0.02702746,  0.02702707,\n",
       "          0.02702693,  0.02702618,  0.02702711,  0.02702759,  0.02702682,\n",
       "          0.02702693,  0.02702673,  0.02702761,  0.02702737,  0.02702584,\n",
       "          0.02702751,  0.02702827,  0.02702721,  0.02702628,  0.02702751,\n",
       "          0.02702658,  0.02702765,  0.02702722,  0.0270271 ,  0.02702734,\n",
       "          0.02702719,  0.02702748]], dtype=float32),\n",
       " array([[ 0.02702802,  0.02702746,  0.02702624,  0.02702689,  0.0270267 ,\n",
       "          0.0270269 ,  0.02702766,  0.02702591,  0.02702694,  0.0270275 ,\n",
       "          0.02702708,  0.02702754,  0.02702763,  0.02702709,  0.02702711,\n",
       "          0.02702727,  0.02702576,  0.02702813,  0.02702658,  0.02702837,\n",
       "          0.02702754,  0.02702713,  0.02702635,  0.0270268 ,  0.02702718,\n",
       "          0.02702616,  0.0270264 ,  0.02702661,  0.02702618,  0.02702608,\n",
       "          0.0270276 ,  0.0270269 ,  0.02702722,  0.02702822,  0.02702826,\n",
       "          0.02702571,  0.02702691]], dtype=float32),\n",
       " array([[ 0.02702676,  0.02702789,  0.02702747,  0.02702842,  0.02702687,\n",
       "          0.02702712,  0.02702688,  0.02702632,  0.02702646,  0.02702716,\n",
       "          0.027027  ,  0.02702726,  0.02702731,  0.02702736,  0.02702739,\n",
       "          0.02702748,  0.02702735,  0.02702715,  0.02702752,  0.02702686,\n",
       "          0.0270266 ,  0.02702768,  0.02702669,  0.02702702,  0.02702658,\n",
       "          0.02702597,  0.02702669,  0.02702811,  0.0270258 ,  0.02702644,\n",
       "          0.02702696,  0.02702638,  0.02702727,  0.02702688,  0.02702618,\n",
       "          0.02702766,  0.02702693]], dtype=float32),\n",
       " array([[ 0.02702635,  0.02702717,  0.02702692,  0.0270266 ,  0.02702795,\n",
       "          0.02702749,  0.02702725,  0.02702695,  0.02702789,  0.02702683,\n",
       "          0.02702727,  0.0270263 ,  0.02702748,  0.02702715,  0.02702716,\n",
       "          0.02702757,  0.02702739,  0.02702715,  0.02702653,  0.02702663,\n",
       "          0.0270256 ,  0.02702778,  0.02702733,  0.02702767,  0.02702803,\n",
       "          0.02702767,  0.02702629,  0.02702627,  0.02702703,  0.02702638,\n",
       "          0.02702738,  0.02702571,  0.02702689,  0.02702762,  0.02702663,\n",
       "          0.02702651,  0.02702729]], dtype=float32),\n",
       " array([[ 0.02702661,  0.02702717,  0.02702731,  0.02702715,  0.02702682,\n",
       "          0.02702664,  0.02702657,  0.02702657,  0.02702751,  0.02702693,\n",
       "          0.02702587,  0.02702649,  0.02702739,  0.0270272 ,  0.02702693,\n",
       "          0.02702776,  0.02702721,  0.02702692,  0.02702794,  0.02702639,\n",
       "          0.02702694,  0.02702838,  0.02702732,  0.02702627,  0.02702697,\n",
       "          0.02702737,  0.02702738,  0.02702683,  0.02702642,  0.02702712,\n",
       "          0.02702583,  0.02702698,  0.02702768,  0.02702727,  0.02702633,\n",
       "          0.02702787,  0.02702767]], dtype=float32),\n",
       " array([[ 0.02702662,  0.02702691,  0.02702759,  0.02702769,  0.02702616,\n",
       "          0.02702785,  0.02702774,  0.0270272 ,  0.02702638,  0.02702625,\n",
       "          0.0270266 ,  0.02702698,  0.0270264 ,  0.0270271 ,  0.02702669,\n",
       "          0.02702668,  0.02702647,  0.02702677,  0.02702735,  0.02702733,\n",
       "          0.02702799,  0.02702731,  0.02702689,  0.02702786,  0.02702742,\n",
       "          0.02702791,  0.02702754,  0.02702764,  0.02702804,  0.02702592,\n",
       "          0.02702705,  0.02702631,  0.0270262 ,  0.02702657,  0.02702576,\n",
       "          0.02702753,  0.02702719]], dtype=float32),\n",
       " array([[ 0.02702612,  0.027027  ,  0.02702684,  0.02702682,  0.02702734,\n",
       "          0.02702698,  0.02702734,  0.02702706,  0.0270287 ,  0.02702703,\n",
       "          0.02702738,  0.02702704,  0.02702608,  0.0270265 ,  0.02702682,\n",
       "          0.02702743,  0.02702742,  0.02702561,  0.02702655,  0.02702615,\n",
       "          0.02702775,  0.02702734,  0.02702725,  0.02702715,  0.02702738,\n",
       "          0.02702694,  0.02702809,  0.02702725,  0.02702765,  0.0270278 ,\n",
       "          0.02702664,  0.02702705,  0.02702646,  0.02702774,  0.02702616,\n",
       "          0.02702683,  0.02702633]], dtype=float32),\n",
       " array([[ 0.02702695,  0.02702666,  0.02702624,  0.02702782,  0.02702721,\n",
       "          0.02702728,  0.02702632,  0.02702689,  0.0270261 ,  0.02702734,\n",
       "          0.02702847,  0.02702783,  0.02702656,  0.02702601,  0.02702777,\n",
       "          0.02702671,  0.02702661,  0.0270263 ,  0.02702736,  0.02702748,\n",
       "          0.02702626,  0.02702685,  0.02702714,  0.02702645,  0.02702865,\n",
       "          0.0270265 ,  0.02702769,  0.02702805,  0.02702605,  0.02702708,\n",
       "          0.02702597,  0.02702756,  0.0270274 ,  0.02702761,  0.02702703,\n",
       "          0.02702671,  0.02702711]], dtype=float32),\n",
       " array([[ 0.02702726,  0.02702683,  0.02702642,  0.02702674,  0.02702771,\n",
       "          0.0270268 ,  0.02702771,  0.02702595,  0.02702829,  0.02702757,\n",
       "          0.02702699,  0.02702674,  0.02702808,  0.02702692,  0.02702808,\n",
       "          0.02702592,  0.02702743,  0.02702738,  0.02702602,  0.02702649,\n",
       "          0.0270268 ,  0.02702666,  0.0270275 ,  0.02702746,  0.0270266 ,\n",
       "          0.02702628,  0.0270274 ,  0.02702678,  0.02702756,  0.02702615,\n",
       "          0.02702707,  0.02702698,  0.0270273 ,  0.02702703,  0.02702667,\n",
       "          0.02702751,  0.02702696]], dtype=float32),\n",
       " array([[ 0.02702635,  0.02702608,  0.02702734,  0.02702766,  0.02702712,\n",
       "          0.02702773,  0.0270279 ,  0.02702774,  0.02702611,  0.02702704,\n",
       "          0.02702629,  0.02702834,  0.02702685,  0.02702748,  0.0270263 ,\n",
       "          0.02702716,  0.02702578,  0.02702729,  0.02702674,  0.02702753,\n",
       "          0.02702577,  0.02702826,  0.02702649,  0.02702674,  0.02702644,\n",
       "          0.02702665,  0.02702655,  0.02702716,  0.02702712,  0.02702635,\n",
       "          0.02702739,  0.02702804,  0.02702719,  0.02702755,  0.02702739,\n",
       "          0.02702678,  0.02702728]], dtype=float32),\n",
       " array([[ 0.0270264 ,  0.02702723,  0.02702717,  0.02702727,  0.02702582,\n",
       "          0.02702753,  0.02702662,  0.0270278 ,  0.02702595,  0.02702733,\n",
       "          0.02702781,  0.02702804,  0.02702618,  0.02702788,  0.02702678,\n",
       "          0.02702613,  0.027027  ,  0.02702649,  0.02702754,  0.02702808,\n",
       "          0.02702734,  0.02702556,  0.02702831,  0.02702671,  0.02702679,\n",
       "          0.0270272 ,  0.02702736,  0.02702773,  0.02702667,  0.02702856,\n",
       "          0.0270266 ,  0.02702649,  0.02702629,  0.02702735,  0.02702685,\n",
       "          0.02702673,  0.02702654]], dtype=float32),\n",
       " array([[ 0.0270276 ,  0.02702656,  0.02702653,  0.02702603,  0.02702661,\n",
       "          0.02702718,  0.0270267 ,  0.02702725,  0.02702719,  0.02702636,\n",
       "          0.02702768,  0.02702793,  0.02702666,  0.02702737,  0.02702751,\n",
       "          0.02702736,  0.02702729,  0.02702685,  0.02702741,  0.02702544,\n",
       "          0.02702772,  0.02702528,  0.0270272 ,  0.02702785,  0.02702789,\n",
       "          0.02702655,  0.02702661,  0.02702605,  0.0270275 ,  0.02702662,\n",
       "          0.02702729,  0.02702779,  0.02702727,  0.02702762,  0.02702769,\n",
       "          0.02702739,  0.02702603]], dtype=float32),\n",
       " array([[ 0.02702743,  0.02702646,  0.02702695,  0.02702726,  0.02702784,\n",
       "          0.02702687,  0.02702742,  0.02702759,  0.02702807,  0.02702633,\n",
       "          0.0270273 ,  0.02702625,  0.02702739,  0.02702712,  0.02702662,\n",
       "          0.02702726,  0.02702686,  0.02702751,  0.02702694,  0.02702734,\n",
       "          0.02702676,  0.02702758,  0.02702568,  0.02702685,  0.02702633,\n",
       "          0.02702801,  0.02702588,  0.02702737,  0.02702666,  0.02702662,\n",
       "          0.02702759,  0.02702674,  0.02702758,  0.02702654,  0.02702663,\n",
       "          0.02702731,  0.02702708]], dtype=float32),\n",
       " array([[ 0.0270261 ,  0.02702716,  0.02702589,  0.02702713,  0.02702823,\n",
       "          0.02702661,  0.02702644,  0.02702811,  0.0270268 ,  0.0270271 ,\n",
       "          0.02702717,  0.02702691,  0.02702683,  0.02702669,  0.02702654,\n",
       "          0.02702735,  0.02702656,  0.02702735,  0.0270268 ,  0.02702704,\n",
       "          0.02702718,  0.02702609,  0.02702729,  0.02702719,  0.02702661,\n",
       "          0.027027  ,  0.02702768,  0.02702724,  0.02702771,  0.02702595,\n",
       "          0.02702753,  0.02702827,  0.02702749,  0.02702633,  0.02702684,\n",
       "          0.02702708,  0.02702774]], dtype=float32),\n",
       " array([[ 0.02702601,  0.02702572,  0.02702721,  0.02702756,  0.02702641,\n",
       "          0.02702726,  0.02702734,  0.0270273 ,  0.02702833,  0.02702626,\n",
       "          0.02702703,  0.02702751,  0.02702633,  0.02702752,  0.02702747,\n",
       "          0.02702648,  0.02702697,  0.02702663,  0.02702723,  0.0270271 ,\n",
       "          0.02702769,  0.02702739,  0.02702603,  0.02702686,  0.02702678,\n",
       "          0.0270271 ,  0.02702664,  0.02702724,  0.02702636,  0.02702672,\n",
       "          0.0270267 ,  0.02702765,  0.02702747,  0.0270276 ,  0.02702756,\n",
       "          0.02702707,  0.02702748]], dtype=float32),\n",
       " array([[ 0.02702759,  0.02702703,  0.02702673,  0.02702694,  0.02702748,\n",
       "          0.02702763,  0.02702683,  0.02702669,  0.0270275 ,  0.02702847,\n",
       "          0.02702693,  0.02702825,  0.02702677,  0.02702696,  0.02702672,\n",
       "          0.02702712,  0.02702841,  0.02702626,  0.0270261 ,  0.02702584,\n",
       "          0.02702765,  0.02702668,  0.02702586,  0.02702648,  0.02702816,\n",
       "          0.02702584,  0.02702717,  0.02702739,  0.02702786,  0.02702669,\n",
       "          0.02702731,  0.02702657,  0.02702661,  0.02702685,  0.0270274 ,\n",
       "          0.02702644,  0.0270269 ]], dtype=float32),\n",
       " array([[ 0.02702733,  0.02702644,  0.02702814,  0.02702653,  0.02702728,\n",
       "          0.02702738,  0.02702727,  0.02702705,  0.027027  ,  0.02702767,\n",
       "          0.02702685,  0.0270275 ,  0.02702749,  0.0270266 ,  0.02702674,\n",
       "          0.02702694,  0.02702837,  0.02702582,  0.02702806,  0.02702651,\n",
       "          0.02702656,  0.02702652,  0.02702602,  0.02702653,  0.02702708,\n",
       "          0.0270266 ,  0.02702729,  0.02702617,  0.02702601,  0.02702742,\n",
       "          0.02702731,  0.02702725,  0.02702813,  0.02702618,  0.02702642,\n",
       "          0.02702862,  0.02702698]], dtype=float32),\n",
       " array([[ 0.02702732,  0.02702728,  0.02702723,  0.02702718,  0.02702758,\n",
       "          0.02702834,  0.02702669,  0.02702773,  0.0270277 ,  0.02702756,\n",
       "          0.02702651,  0.02702613,  0.02702826,  0.02702641,  0.02702778,\n",
       "          0.02702745,  0.02702659,  0.02702685,  0.02702635,  0.02702682,\n",
       "          0.02702734,  0.02702559,  0.02702642,  0.02702576,  0.02702643,\n",
       "          0.02702669,  0.02702644,  0.02702691,  0.02702682,  0.02702814,\n",
       "          0.02702783,  0.02702782,  0.02702505,  0.02702743,  0.02702714,\n",
       "          0.02702848,  0.02702609]], dtype=float32),\n",
       " array([[ 0.027027  ,  0.02702686,  0.0270257 ,  0.02702712,  0.0270273 ,\n",
       "          0.02702674,  0.02702755,  0.02702778,  0.02702653,  0.02702789,\n",
       "          0.02702663,  0.02702743,  0.02702809,  0.02702719,  0.02702665,\n",
       "          0.02702709,  0.02702716,  0.02702743,  0.02702737,  0.02702759,\n",
       "          0.02702725,  0.02702652,  0.02702746,  0.02702636,  0.02702737,\n",
       "          0.02702669,  0.0270272 ,  0.02702602,  0.02702736,  0.02702748,\n",
       "          0.02702681,  0.02702651,  0.02702687,  0.02702688,  0.02702788,\n",
       "          0.02702668,  0.02702565]], dtype=float32),\n",
       " array([[ 0.02702662,  0.02702733,  0.02702696,  0.02702728,  0.02702758,\n",
       "          0.02702718,  0.02702695,  0.02702719,  0.0270272 ,  0.02702677,\n",
       "          0.02702827,  0.02702696,  0.02702645,  0.02702806,  0.02702697,\n",
       "          0.0270273 ,  0.02702674,  0.02702647,  0.02702733,  0.02702633,\n",
       "          0.02702792,  0.02702848,  0.02702747,  0.02702725,  0.0270262 ,\n",
       "          0.02702675,  0.02702757,  0.02702669,  0.02702519,  0.02702626,\n",
       "          0.02702796,  0.02702762,  0.02702623,  0.02702769,  0.02702707,\n",
       "          0.02702544,  0.0270263 ]], dtype=float32),\n",
       " array([[ 0.02702735,  0.0270275 ,  0.02702751,  0.02702682,  0.02702661,\n",
       "          0.02702677,  0.0270275 ,  0.02702745,  0.02702656,  0.02702685,\n",
       "          0.02702714,  0.02702636,  0.0270267 ,  0.02702731,  0.02702636,\n",
       "          0.02702722,  0.02702676,  0.02702632,  0.02702713,  0.0270272 ,\n",
       "          0.02702673,  0.02702623,  0.02702795,  0.0270278 ,  0.02702839,\n",
       "          0.02702634,  0.02702679,  0.02702616,  0.02702764,  0.02702781,\n",
       "          0.02702767,  0.02702656,  0.02702649,  0.02702638,  0.02702778,\n",
       "          0.02702733,  0.02702661]], dtype=float32),\n",
       " array([[ 0.02702705,  0.02702669,  0.02702749,  0.02702726,  0.02702688,\n",
       "          0.02702712,  0.02702669,  0.02702715,  0.02702647,  0.02702775,\n",
       "          0.0270274 ,  0.02702808,  0.02702668,  0.027028  ,  0.02702793,\n",
       "          0.02702729,  0.02702699,  0.02702791,  0.02702617,  0.02702678,\n",
       "          0.02702667,  0.02702682,  0.02702667,  0.02702612,  0.02702774,\n",
       "          0.02702753,  0.02702639,  0.02702722,  0.02702631,  0.02702639,\n",
       "          0.02702701,  0.0270264 ,  0.0270271 ,  0.02702656,  0.02702686,\n",
       "          0.02702718,  0.02702737]], dtype=float32),\n",
       " array([[ 0.02702771,  0.02702707,  0.02702775,  0.02702682,  0.02702637,\n",
       "          0.02702734,  0.02702705,  0.02702592,  0.02702752,  0.02702671,\n",
       "          0.02702683,  0.02702718,  0.02702671,  0.02702692,  0.02702726,\n",
       "          0.02702797,  0.02702829,  0.02702675,  0.02702782,  0.02702579,\n",
       "          0.02702717,  0.02702729,  0.02702642,  0.02702727,  0.02702774,\n",
       "          0.02702613,  0.02702713,  0.02702758,  0.02702771,  0.02702725,\n",
       "          0.02702727,  0.02702689,  0.02702665,  0.02702546,  0.02702789,\n",
       "          0.0270262 ,  0.02702615]], dtype=float32)]"
      ]
     },
     "execution_count": 45,
     "metadata": {},
     "output_type": "execute_result"
    }
   ],
   "source": [
    "y_pred"
   ]
  },
  {
   "cell_type": "code",
   "execution_count": 159,
   "metadata": {
    "collapsed": false
   },
   "outputs": [],
   "source": [
    "data = np.load(\"data.npy\")\n",
    "X = data[()][\"X\"]\n",
    "y = data[()][\"y\"]"
   ]
  },
  {
   "cell_type": "code",
   "execution_count": 162,
   "metadata": {
    "collapsed": false
   },
   "outputs": [
    {
     "data": {
      "text/plain": [
       "array([ 0.,  1.,  0.,  0.,  0.,  0.,  0.,  0.,  0.,  0.,  0.,  0.,  0.,\n",
       "        0.,  0.,  0.,  0.,  0.,  0.,  0.,  0.,  0.,  0.,  0.,  0.,  0.,\n",
       "        0.,  0.,  0.,  0.,  0.,  0.,  0.,  0.,  0.,  0.])"
      ]
     },
     "execution_count": 162,
     "metadata": {},
     "output_type": "execute_result"
    }
   ],
   "source": [
    "y[0][0,:]"
   ]
  },
  {
   "cell_type": "code",
   "execution_count": 163,
   "metadata": {
    "collapsed": true
   },
   "outputs": [],
   "source": [
    "from keras.models import load_model"
   ]
  },
  {
   "cell_type": "code",
   "execution_count": 233,
   "metadata": {
    "collapsed": true
   },
   "outputs": [],
   "source": [
    "model = load_model(\"model1.h5\")"
   ]
  },
  {
   "cell_type": "code",
   "execution_count": 234,
   "metadata": {
    "collapsed": false
   },
   "outputs": [
    {
     "data": {
      "text/plain": [
       "(10000, 32, 100, 1)"
      ]
     },
     "execution_count": 234,
     "metadata": {},
     "output_type": "execute_result"
    }
   ],
   "source": [
    "X.shape"
   ]
  },
  {
   "cell_type": "code",
   "execution_count": null,
   "metadata": {
    "collapsed": true
   },
   "outputs": [],
   "source": []
  },
  {
   "cell_type": "code",
   "execution_count": 235,
   "metadata": {
    "collapsed": false
   },
   "outputs": [],
   "source": [
    "y_pred = model.predict(X[:1000])"
   ]
  },
  {
   "cell_type": "code",
   "execution_count": 236,
   "metadata": {
    "collapsed": false
   },
   "outputs": [],
   "source": [
    "y_pred = np.array(y_pred)"
   ]
  },
  {
   "cell_type": "code",
   "execution_count": 237,
   "metadata": {
    "collapsed": false
   },
   "outputs": [],
   "source": [
    "test = np.argmax(y_pred,axis=-1).T"
   ]
  },
  {
   "cell_type": "code",
   "execution_count": 226,
   "metadata": {
    "collapsed": false
   },
   "outputs": [
    {
     "data": {
      "text/plain": [
       "(100, 23)"
      ]
     },
     "execution_count": 226,
     "metadata": {},
     "output_type": "execute_result"
    }
   ],
   "source": [
    "test.shape"
   ]
  },
  {
   "cell_type": "code",
   "execution_count": 229,
   "metadata": {
    "collapsed": false
   },
   "outputs": [
    {
     "data": {
      "text/plain": [
       "'de'"
      ]
     },
     "execution_count": 229,
     "metadata": {},
     "output_type": "execute_result"
    }
   ],
   "source": [
    "labels_to_word(test[0])"
   ]
  },
  {
   "cell_type": "code",
   "execution_count": 239,
   "metadata": {
    "collapsed": false
   },
   "outputs": [
    {
     "data": {
      "text/plain": [
       "0.849"
      ]
     },
     "execution_count": 239,
     "metadata": {},
     "output_type": "execute_result"
    }
   ],
   "source": [
    "score = 0\n",
    "for i,label in enumerate(labels[:1000]):\n",
    "    score += labels_to_word(test[i])==label\n",
    "score/1000"
   ]
  },
  {
   "cell_type": "code",
   "execution_count": 200,
   "metadata": {
    "collapsed": false
   },
   "outputs": [
    {
     "data": {
      "text/plain": [
       "'interrupts'"
      ]
     },
     "execution_count": 200,
     "metadata": {},
     "output_type": "execute_result"
    }
   ],
   "source": [
    "labels_to_word(np.argmax(y_pred,axis=-1).reshape((1,23))[0])"
   ]
  },
  {
   "cell_type": "code",
   "execution_count": 202,
   "metadata": {
    "collapsed": false
   },
   "outputs": [
    {
     "data": {
      "text/plain": [
       "<matplotlib.image.AxesImage at 0x1686529b0>"
      ]
     },
     "execution_count": 202,
     "metadata": {},
     "output_type": "execute_result"
    },
    {
     "data": {
      "image/png": "[encoded data removed]",
      "text/plain": [
       "<matplotlib.figure.Figure at 0x16115d8d0>"
      ]
     },
     "metadata": {},
     "output_type": "display_data"
    }
   ],
   "source": [
    "plt.imshow(X[12][:,:,0], cmap=\"gray\")"
   ]
  },
  {
   "cell_type": "code",
   "execution_count": 204,
   "metadata": {
    "collapsed": false
   },
   "outputs": [
    {
     "data": {
      "text/plain": [
       "['accuracy']"
      ]
     },
     "execution_count": 204,
     "metadata": {},
     "output_type": "execute_result"
    }
   ],
   "source": [
    "model.metrics"
   ]
  },
  {
   "cell_type": "code",
   "execution_count": 231,
   "metadata": {
    "collapsed": false
   },
   "outputs": [
    {
     "ename": "ModuleNotFoundError",
     "evalue": "No module named 'pynlp'",
     "output_type": "error",
     "traceback": [
      "\u001b[0;31m---------------------------------------------------------------------------\u001b[0m",
      "\u001b[0;31mModuleNotFoundError\u001b[0m                       Traceback (most recent call last)",
      "\u001b[0;32m<ipython-input-231-daf1f7305ab6>\u001b[0m in \u001b[0;36m<module>\u001b[0;34m()\u001b[0m\n\u001b[0;32m----> 1\u001b[0;31m \u001b[0;32mimport\u001b[0m \u001b[0mpynlp\u001b[0m\u001b[0;34m\u001b[0m\u001b[0m\n\u001b[0m",
      "\u001b[0;31mModuleNotFoundError\u001b[0m: No module named 'pynlp'"
     ]
    }
   ],
   "source": [
    "import pynlp"
   ]
  },
  {
   "cell_type": "code",
   "execution_count": null,
   "metadata": {
    "collapsed": true
   },
   "outputs": [],
   "source": []
  }
 ],
 "metadata": {
  "anaconda-cloud": {},
  "kernelspec": {
   "display_name": "Python 3",
   "language": "python",
   "name": "python3"
  },
  "language_info": {
   "codemirror_mode": {
    "name": "ipython",
    "version": 3
   },
   "file_extension": ".py",
   "mimetype": "text/x-python",
   "name": "python",
   "nbconvert_exporter": "python",
   "pygments_lexer": "ipython3",
   "version": "3.6.0"
  }
 },
 "nbformat": 4,
 "nbformat_minor": 1
}
