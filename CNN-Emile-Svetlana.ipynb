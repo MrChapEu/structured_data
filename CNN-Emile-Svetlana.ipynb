{
 "cells": [
  {
   "cell_type": "markdown",
   "metadata": {},
   "source": [
    "### Loading images and labels\n"
   ]
  },
  {
   "cell_type": "code",
   "execution_count": 1,
   "metadata": {
    "collapsed": false
   },
   "outputs": [],
   "source": [
    "from scipy.misc import imread, imresize\n",
    "#from keras.applications.imagenet_utils import preprocess_input\n",
    "import os\n",
    "import numpy as np\n",
    "import matplotlib.pyplot as plt\n",
    "%matplotlib inline"
   ]
  },
  {
   "cell_type": "markdown",
   "metadata": {},
   "source": [
    "### Predicting on a batch of images\n",
    "\n",
    "The predict_batch function is defined as follows:\n",
    "\n",
    "    - open each image, and resize them to img_size\n",
    "    - stack them as a batch tensor of shape (batch, img_size_x, img_size_y)\n",
    "    - preprocess the batch and make a forward pass with the model\n",
    "\n"
   ]
  },
  {
   "cell_type": "code",
   "execution_count": 2,
   "metadata": {
    "collapsed": false
   },
   "outputs": [],
   "source": [
    "#def predict_batch(model, img_batch_path, img_size=None):\n",
    "def predict_batch(folder, img_size=None):\n",
    "    img_list = []\n",
    "    label_list = []\n",
    "\n",
    "    for filename in os.listdir(folder):\n",
    "        \n",
    "        if filename.endswith(\".jpg\"):\n",
    "            img = imread(os.path.join(folder,filename))\n",
    "            lb = filename.split('_')[1]\n",
    "            lb = lb.lower()\n",
    "        \n",
    "        if img_size:\n",
    "            img = imresize(img,img_size)\n",
    "\n",
    "        img = img.astype('float32')\n",
    "        \n",
    "        # convert image to greyscale\n",
    "        img = img.sum(axis=2) / 3.\n",
    "        img /= np.std(img)\n",
    "        \n",
    "        img = img[:, :, np.newaxis]\n",
    "        \n",
    "        img_list.append(img)\n",
    "        label_list.append(lb)\n",
    "    try:\n",
    "        img_batch = np.stack(img_list, axis=0)\n",
    "    except:\n",
    "        raise ValueError(\n",
    "            'when both img_size and crop_size are None, all images '\n",
    "            'in image_paths must have the same shapes.')\n",
    "\n",
    "    #batch = preprocess_input(img_batch)\n",
    "    return img_batch, label_list \n",
    "            #model.predict(img_batch)"
   ]
  },
  {
   "cell_type": "code",
   "execution_count": 3,
   "metadata": {
    "collapsed": false
   },
   "outputs": [
    {
     "name": "stdout",
     "output_type": "stream",
     "text": [
      "output shape (523, 32, 100, 1)\n",
      "label shape 523\n"
     ]
    }
   ],
   "source": [
    "YOUR_FOLDER_NAME = \"try\"\n",
    "\n",
    "output, labels = predict_batch(YOUR_FOLDER_NAME, (32, 100))\n",
    "print(\"output shape\", output.shape)\n",
    "print ('label shape', len(labels))"
   ]
  },
  {
   "cell_type": "code",
   "execution_count": 232,
   "metadata": {
    "collapsed": false
   },
   "outputs": [
    {
     "data": {
      "text/plain": [
       "[]"
      ]
     },
     "execution_count": 232,
     "metadata": {},
     "output_type": "execute_result"
    }
   ],
   "source": [
    "labels"
   ]
  },
  {
   "cell_type": "code",
   "execution_count": 233,
   "metadata": {
    "collapsed": false
   },
   "outputs": [
    {
     "data": {
      "text/plain": [
       "(1, 32, 100, 1)"
      ]
     },
     "execution_count": 233,
     "metadata": {},
     "output_type": "execute_result"
    }
   ],
   "source": [
    "X[1:2].shape"
   ]
  },
  {
   "cell_type": "code",
   "execution_count": null,
   "metadata": {
    "collapsed": false
   },
   "outputs": [],
   "source": [
    "output[0][:,:,0].shape"
   ]
  },
  {
   "cell_type": "code",
   "execution_count": 234,
   "metadata": {
    "collapsed": false
   },
   "outputs": [
    {
     "data": {
      "text/plain": [
       "<matplotlib.image.AxesImage at 0x37e7c4320>"
      ]
     },
     "execution_count": 234,
     "metadata": {},
     "output_type": "execute_result"
    },
    {
     "data": {
      "image/png": "[encoded data removed]",
      "text/plain": [
       "<matplotlib.figure.Figure at 0x37dbbf400>"
      ]
     },
     "metadata": {},
     "output_type": "display_data"
    }
   ],
   "source": [
    "plt.imshow(X[1][:,:,0], cmap=\"gray\")"
   ]
  },
  {
   "cell_type": "markdown",
   "metadata": {},
   "source": [
    "### Conv-net model\n",
    "\n",
    "The base CNN has five convolutional layers and two fully connected layers. "
   ]
  },
  {
   "cell_type": "code",
   "execution_count": 208,
   "metadata": {
    "collapsed": false
   },
   "outputs": [],
   "source": [
    "import keras as ks\n",
    "from keras.models import Model\n",
    "from keras import models\n",
    "from keras.layers import Flatten, Dropout, MaxPooling2D,Input\n",
    "from keras.layers import Dense, InputLayer, Convolution2D\n",
    "import logging\n",
    "import numpy as np\n",
    "\n",
    "import keras.backend as K\n",
    "import tensorflow as tf\n",
    "\n",
    "def squeeze_dim(x, axis=-1):\n",
    "    # Removes a 1-dimension from the tensor at index \"axis\"\n",
    "    return K.squeeze(x, axis=axis)\n",
    "\n",
    "\n",
    "class CNN(object):\n",
    "    \"\"\"\n",
    "    Usage for tf tensor output:\n",
    "    o = CNN(x).tf_output()\n",
    "    \"\"\"\n",
    "\n",
    "    def __init__(self, input_tensor):\n",
    "        self._build_network(input_tensor)\n",
    "\n",
    "    def _build_network(self, input_tensor):\n",
    "        \n",
    "        model_input = Input(shape=(32,100,1))#,tensor=input_tensor)\n",
    "\n",
    "        conv_layers_size = [64,128,256,512,512]\n",
    "        edges_size = [5,5,3,3,3]\n",
    "        \n",
    "        #convolutional layes\n",
    "        x = model_input \n",
    "        for i,(layer_size, edge_size) in enumerate(zip(conv_layers_size,edges_size)):\n",
    "            x = Convolution2D(\n",
    "                layer_size, edge_size, edge_size, \n",
    "                activation='relu', subsample=(1, 1),border_mode='same')(x)\n",
    "            if i <= 2 :\n",
    "                x = MaxPooling2D(pool_size=(2, 2), strides=(2, 2))(x)\n",
    "    \n",
    "        #dense layers\n",
    "        x = Flatten()(x)\n",
    "        x = Dense(4096, activation='relu')(x)\n",
    "        x = Dropout(0.5)(x)\n",
    "        x = Dense(4096)(x)\n",
    "    \n",
    "    \n",
    "        N = 23\n",
    "        outputs = []\n",
    "        for i in range(N):\n",
    "            outputs.append(Dense(37,activation='softmax')(x))\n",
    "        \n",
    "        self.model = Model(input=model_input,output=outputs)\n",
    "\n",
    "    def tf_output(self):\n",
    "        # if self.input_tensor is not None:\n",
    "        return self.model.output\n",
    "\n",
    "    def __call__(self, input_tensor):\n",
    "        return self.model(input_tensor)\n",
    "    \n",
    "    def tf_summary(self):\n",
    "        print(self.model.summary())\n",
    "\n",
    "    def save(self, filename):\n",
    "        self.model.save_weights(str(filename) + \".h5\")\n",
    "        print(\"Model saved to disk\")\n"
   ]
  },
  {
   "cell_type": "code",
   "execution_count": 209,
   "metadata": {
    "collapsed": false
   },
   "outputs": [],
   "source": [
    "model_cnn = CNN(tf.Variable(output))"
   ]
  },
  {
   "cell_type": "code",
   "execution_count": 210,
   "metadata": {
    "collapsed": false
   },
   "outputs": [
    {
     "name": "stdout",
     "output_type": "stream",
     "text": [
      "____________________________________________________________________________________________________\n",
      "Layer (type)                     Output Shape          Param #     Connected to                     \n",
      "====================================================================================================\n",
      "input_11 (InputLayer)            (None, 32, 100, 1)    0                                            \n",
      "____________________________________________________________________________________________________\n",
      "convolution2d_43 (Convolution2D) (None, 32, 100, 64)   1664        input_11[0][0]                   \n",
      "____________________________________________________________________________________________________\n",
      "maxpooling2d_25 (MaxPooling2D)   (None, 16, 50, 64)    0           convolution2d_43[0][0]           \n",
      "____________________________________________________________________________________________________\n",
      "convolution2d_44 (Convolution2D) (None, 16, 50, 128)   204928      maxpooling2d_25[0][0]            \n",
      "____________________________________________________________________________________________________\n",
      "maxpooling2d_26 (MaxPooling2D)   (None, 8, 25, 128)    0           convolution2d_44[0][0]           \n",
      "____________________________________________________________________________________________________\n",
      "convolution2d_45 (Convolution2D) (None, 8, 25, 256)    295168      maxpooling2d_26[0][0]            \n",
      "____________________________________________________________________________________________________\n",
      "maxpooling2d_27 (MaxPooling2D)   (None, 4, 12, 256)    0           convolution2d_45[0][0]           \n",
      "____________________________________________________________________________________________________\n",
      "convolution2d_46 (Convolution2D) (None, 4, 12, 512)    1180160     maxpooling2d_27[0][0]            \n",
      "____________________________________________________________________________________________________\n",
      "convolution2d_47 (Convolution2D) (None, 4, 12, 512)    2359808     convolution2d_46[0][0]           \n",
      "____________________________________________________________________________________________________\n",
      "flatten_9 (Flatten)              (None, 24576)         0           convolution2d_47[0][0]           \n",
      "____________________________________________________________________________________________________\n",
      "dense_179 (Dense)                (None, 4096)          100667392   flatten_9[0][0]                  \n",
      "____________________________________________________________________________________________________\n",
      "dropout_19 (Dropout)             (None, 4096)          0           dense_179[0][0]                  \n",
      "____________________________________________________________________________________________________\n",
      "dense_180 (Dense)                (None, 4096)          16781312    dropout_19[0][0]                 \n",
      "____________________________________________________________________________________________________\n",
      "dense_181 (Dense)                (None, 37)            151589      dense_180[0][0]                  \n",
      "____________________________________________________________________________________________________\n",
      "dense_182 (Dense)                (None, 37)            151589      dense_180[0][0]                  \n",
      "____________________________________________________________________________________________________\n",
      "dense_183 (Dense)                (None, 37)            151589      dense_180[0][0]                  \n",
      "____________________________________________________________________________________________________\n",
      "dense_184 (Dense)                (None, 37)            151589      dense_180[0][0]                  \n",
      "____________________________________________________________________________________________________\n",
      "dense_185 (Dense)                (None, 37)            151589      dense_180[0][0]                  \n",
      "____________________________________________________________________________________________________\n",
      "dense_186 (Dense)                (None, 37)            151589      dense_180[0][0]                  \n",
      "____________________________________________________________________________________________________\n",
      "dense_187 (Dense)                (None, 37)            151589      dense_180[0][0]                  \n",
      "____________________________________________________________________________________________________\n",
      "dense_188 (Dense)                (None, 37)            151589      dense_180[0][0]                  \n",
      "____________________________________________________________________________________________________\n",
      "dense_189 (Dense)                (None, 37)            151589      dense_180[0][0]                  \n",
      "____________________________________________________________________________________________________\n",
      "dense_190 (Dense)                (None, 37)            151589      dense_180[0][0]                  \n",
      "____________________________________________________________________________________________________\n",
      "dense_191 (Dense)                (None, 37)            151589      dense_180[0][0]                  \n",
      "____________________________________________________________________________________________________\n",
      "dense_192 (Dense)                (None, 37)            151589      dense_180[0][0]                  \n",
      "____________________________________________________________________________________________________\n",
      "dense_193 (Dense)                (None, 37)            151589      dense_180[0][0]                  \n",
      "____________________________________________________________________________________________________\n",
      "dense_194 (Dense)                (None, 37)            151589      dense_180[0][0]                  \n",
      "____________________________________________________________________________________________________\n",
      "dense_195 (Dense)                (None, 37)            151589      dense_180[0][0]                  \n",
      "____________________________________________________________________________________________________\n",
      "dense_196 (Dense)                (None, 37)            151589      dense_180[0][0]                  \n",
      "____________________________________________________________________________________________________\n",
      "dense_197 (Dense)                (None, 37)            151589      dense_180[0][0]                  \n",
      "____________________________________________________________________________________________________\n",
      "dense_198 (Dense)                (None, 37)            151589      dense_180[0][0]                  \n",
      "____________________________________________________________________________________________________\n",
      "dense_199 (Dense)                (None, 37)            151589      dense_180[0][0]                  \n",
      "____________________________________________________________________________________________________\n",
      "dense_200 (Dense)                (None, 37)            151589      dense_180[0][0]                  \n",
      "____________________________________________________________________________________________________\n",
      "dense_201 (Dense)                (None, 37)            151589      dense_180[0][0]                  \n",
      "____________________________________________________________________________________________________\n",
      "dense_202 (Dense)                (None, 37)            151589      dense_180[0][0]                  \n",
      "____________________________________________________________________________________________________\n",
      "dense_203 (Dense)                (None, 37)            151589      dense_180[0][0]                  \n",
      "====================================================================================================\n",
      "Total params: 124,976,979\n",
      "Trainable params: 124,976,979\n",
      "Non-trainable params: 0\n",
      "____________________________________________________________________________________________________\n",
      "None\n"
     ]
    }
   ],
   "source": [
    "model_cnn.tf_summary()"
   ]
  },
  {
   "cell_type": "code",
   "execution_count": 199,
   "metadata": {
    "collapsed": false
   },
   "outputs": [
    {
     "name": "stdout",
     "output_type": "stream",
     "text": [
      "Model saved to disk\n"
     ]
    }
   ],
   "source": [
    "model_cnn.save('model_null')"
   ]
  },
  {
   "cell_type": "code",
   "execution_count": 200,
   "metadata": {
    "collapsed": true
   },
   "outputs": [],
   "source": [
    "model = model_cnn.model"
   ]
  },
  {
   "cell_type": "code",
   "execution_count": null,
   "metadata": {
    "collapsed": true
   },
   "outputs": [],
   "source": [
    "from sklearn.model_selection import train_test_split "
   ]
  },
  {
   "cell_type": "code",
   "execution_count": 11,
   "metadata": {
    "collapsed": false
   },
   "outputs": [],
   "source": [
    "X, y = predict_batch(\"try\", (32, 100))"
   ]
  },
  {
   "cell_type": "code",
   "execution_count": 131,
   "metadata": {
    "collapsed": true
   },
   "outputs": [],
   "source": [
    "maxLen = 23\n",
    "def word_to_labels(w):\n",
    "    return list(w) + [\" \"]*(maxLen - len(w))"
   ]
  },
  {
   "cell_type": "code",
   "execution_count": 132,
   "metadata": {
    "collapsed": true
   },
   "outputs": [],
   "source": [
    "alphabet = \"0123456789abcdefghijklmnopqrstuvwxyz \"\n",
    "V = len(list(alphabet))"
   ]
  },
  {
   "cell_type": "code",
   "execution_count": 133,
   "metadata": {
    "collapsed": false
   },
   "outputs": [],
   "source": [
    "def build_vocabulary(tokenized_sequences):\n",
    "    rev_vocabulary = []\n",
    "    unique_tokens = set()\n",
    "    for tokens in tokenized_sequences:\n",
    "        unique_tokens.update(tokens)\n",
    "    rev_vocabulary += sorted(unique_tokens)\n",
    "    vocabulary = {}\n",
    "    for i, token in enumerate(rev_vocabulary):\n",
    "        vocabulary[token] = i\n",
    "    return vocabulary, rev_vocabulary"
   ]
  },
  {
   "cell_type": "code",
   "execution_count": 134,
   "metadata": {
    "collapsed": true
   },
   "outputs": [],
   "source": [
    "vocabulary, rev_vocabulary = build_vocabulary(list(alphabet))"
   ]
  },
  {
   "cell_type": "code",
   "execution_count": 138,
   "metadata": {
    "collapsed": false
   },
   "outputs": [],
   "source": [
    "def vectorize(w):\n",
    "    letters = word_to_labels(w)\n",
    "    vector = np.zeros((maxLen,V))\n",
    "    for i, letter in enumerate(letters) :\n",
    "        vector[i,vocabulary[letter]]=1\n",
    "    return vector"
   ]
  },
  {
   "cell_type": "code",
   "execution_count": 140,
   "metadata": {
    "collapsed": false
   },
   "outputs": [
    {
     "data": {
      "text/plain": [
       "(23, 37)"
      ]
     },
     "execution_count": 140,
     "metadata": {},
     "output_type": "execute_result"
    }
   ],
   "source": [
    "vectorize('abcade').shape"
   ]
  },
  {
   "cell_type": "code",
   "execution_count": 191,
   "metadata": {
    "collapsed": false
   },
   "outputs": [],
   "source": [
    "Y = []\n",
    "labels = []\n",
    "for word in y :\n",
    "    #v = vectorize(word)\n",
    "    Y.append(vectorize(word))\n",
    "    \n",
    "# Y.append(vectorize(word))\n",
    "Y = np.array(Y)\n",
    "Y = np.rollaxis(Y,1)\n",
    "#Y = Y.T\n",
    "Y_ = []\n",
    "for row in Y:\n",
    "    Y_.append(row)"
   ]
  },
  {
   "cell_type": "code",
   "execution_count": 169,
   "metadata": {
    "collapsed": false
   },
   "outputs": [],
   "source": [
    "w = vectorize(word)"
   ]
  },
  {
   "cell_type": "code",
   "execution_count": 192,
   "metadata": {
    "collapsed": false
   },
   "outputs": [
    {
     "data": {
      "text/plain": [
       "(23, 523, 37)"
      ]
     },
     "execution_count": 192,
     "metadata": {},
     "output_type": "execute_result"
    }
   ],
   "source": [
    "Y.shape"
   ]
  },
  {
   "cell_type": "code",
   "execution_count": 206,
   "metadata": {
    "collapsed": false
   },
   "outputs": [
    {
     "data": {
      "text/plain": [
       "23"
      ]
     },
     "execution_count": 206,
     "metadata": {},
     "output_type": "execute_result"
    }
   ],
   "source": [
    "len(Y_)"
   ]
  },
  {
   "cell_type": "code",
   "execution_count": 182,
   "metadata": {
    "collapsed": false
   },
   "outputs": [
    {
     "data": {
      "text/plain": [
       "40"
      ]
     },
     "execution_count": 182,
     "metadata": {},
     "output_type": "execute_result"
    }
   ],
   "source": []
  },
  {
   "cell_type": "code",
   "execution_count": null,
   "metadata": {
    "collapsed": false
   },
   "outputs": [],
   "source": [
    "#from sklearn.model_selection import train_test_split \n",
    "#X, y = predict_batch(\"try\", (32, 100))\n",
    "#X_train, X_test, y_train, y_test = train_test_split(\n",
    "#...     X, y, test_size=0.4, random_state=0)"
   ]
  },
  {
   "cell_type": "code",
   "execution_count": 211,
   "metadata": {
    "collapsed": false
   },
   "outputs": [
    {
     "name": "stdout",
     "output_type": "stream",
     "text": [
      "Train on 470 samples, validate on 53 samples\n",
      "Epoch 1/15\n",
      "81s - loss: 120.9547 - dense_181_loss: 13.4220 - dense_182_loss: 12.1586 - dense_183_loss: 13.3131 - dense_184_loss: 13.4676 - dense_185_loss: 13.2484 - dense_186_loss: 12.4473 - dense_187_loss: 13.7342 - dense_188_loss: 8.2421 - dense_189_loss: 6.0816 - dense_190_loss: 4.2640 - dense_191_loss: 2.5836 - dense_192_loss: 1.4176 - dense_193_loss: 1.0747 - dense_194_loss: 0.8689 - dense_195_loss: 0.6289 - dense_196_loss: 0.5260 - dense_197_loss: 0.5260 - dense_198_loss: 0.4917 - dense_199_loss: 0.4917 - dense_200_loss: 0.4917 - dense_201_loss: 0.4917 - dense_202_loss: 0.4917 - dense_203_loss: 0.4917 - dense_181_acc: 0.0596 - dense_182_acc: 0.1362 - dense_183_acc: 0.0660 - dense_184_acc: 0.0681 - dense_185_acc: 0.0723 - dense_186_acc: 0.1255 - dense_187_acc: 0.0489 - dense_188_acc: 0.3830 - dense_189_acc: 0.5191 - dense_190_acc: 0.6298 - dense_191_acc: 0.7362 - dense_192_acc: 0.8149 - dense_193_acc: 0.8298 - dense_194_acc: 0.8596 - dense_195_acc: 0.8638 - dense_196_acc: 0.8660 - dense_197_acc: 0.8617 - dense_198_acc: 0.8638 - dense_199_acc: 0.8638 - dense_200_acc: 0.8638 - dense_201_acc: 0.8638 - dense_202_acc: 0.8660 - dense_203_acc: 0.8638 - val_loss: 127.7283 - val_dense_181_loss: 15.2058 - val_dense_182_loss: 13.9893 - val_dense_183_loss: 14.9016 - val_dense_184_loss: 14.9016 - val_dense_185_loss: 14.2934 - val_dense_186_loss: 14.9016 - val_dense_187_loss: 15.2058 - val_dense_188_loss: 8.8193 - val_dense_189_loss: 6.6905 - val_dense_190_loss: 2.7370 - val_dense_191_loss: 2.4329 - val_dense_192_loss: 1.8247 - val_dense_193_loss: 1.5206 - val_dense_194_loss: 0.3041 - val_dense_195_loss: 1.1921e-07 - val_dense_196_loss: 1.1921e-07 - val_dense_197_loss: 1.1921e-07 - val_dense_198_loss: 1.1921e-07 - val_dense_199_loss: 1.1921e-07 - val_dense_200_loss: 1.1921e-07 - val_dense_201_loss: 1.1921e-07 - val_dense_202_loss: 1.1921e-07 - val_dense_203_loss: 1.1921e-07 - val_dense_181_acc: 0.0566 - val_dense_182_acc: 0.1321 - val_dense_183_acc: 0.0755 - val_dense_184_acc: 0.0755 - val_dense_185_acc: 0.1132 - val_dense_186_acc: 0.0755 - val_dense_187_acc: 0.0566 - val_dense_188_acc: 0.4528 - val_dense_189_acc: 0.5849 - val_dense_190_acc: 0.8302 - val_dense_191_acc: 0.8491 - val_dense_192_acc: 0.8868 - val_dense_193_acc: 0.9057 - val_dense_194_acc: 0.9811 - val_dense_195_acc: 1.0000 - val_dense_196_acc: 1.0000 - val_dense_197_acc: 1.0000 - val_dense_198_acc: 1.0000 - val_dense_199_acc: 1.0000 - val_dense_200_acc: 1.0000 - val_dense_201_acc: 1.0000 - val_dense_202_acc: 1.0000 - val_dense_203_acc: 1.0000\n",
      "Epoch 2/15\n",
      "65s - loss: 128.0532 - dense_181_loss: 15.0207 - dense_182_loss: 13.9919 - dense_183_loss: 14.8835 - dense_184_loss: 15.0207 - dense_185_loss: 14.8492 - dense_186_loss: 13.9576 - dense_187_loss: 15.5351 - dense_188_loss: 9.1222 - dense_189_loss: 6.4815 - dense_190_loss: 4.3210 - dense_191_loss: 2.4692 - dense_192_loss: 1.0631 - dense_193_loss: 0.6516 - dense_194_loss: 0.4115 - dense_195_loss: 0.1715 - dense_196_loss: 0.0686 - dense_197_loss: 0.0343 - dense_198_loss: 1.1921e-07 - dense_199_loss: 1.1921e-07 - dense_200_loss: 1.1921e-07 - dense_201_loss: 1.1921e-07 - dense_202_loss: 1.1921e-07 - dense_203_loss: 1.1921e-07 - dense_181_acc: 0.0681 - dense_182_acc: 0.1319 - dense_183_acc: 0.0766 - dense_184_acc: 0.0681 - dense_185_acc: 0.0787 - dense_186_acc: 0.1340 - dense_187_acc: 0.0362 - dense_188_acc: 0.4340 - dense_189_acc: 0.5979 - dense_190_acc: 0.7319 - dense_191_acc: 0.8468 - dense_192_acc: 0.9340 - dense_193_acc: 0.9596 - dense_194_acc: 0.9745 - dense_195_acc: 0.9894 - dense_196_acc: 0.9957 - dense_197_acc: 0.9979 - dense_198_acc: 1.0000 - dense_199_acc: 1.0000 - dense_200_acc: 1.0000 - dense_201_acc: 1.0000 - dense_202_acc: 1.0000 - dense_203_acc: 1.0000 - val_loss: 127.7283 - val_dense_181_loss: 15.2058 - val_dense_182_loss: 13.9893 - val_dense_183_loss: 14.9016 - val_dense_184_loss: 14.9016 - val_dense_185_loss: 14.2934 - val_dense_186_loss: 14.9016 - val_dense_187_loss: 15.2058 - val_dense_188_loss: 8.8193 - val_dense_189_loss: 6.6905 - val_dense_190_loss: 2.7370 - val_dense_191_loss: 2.4329 - val_dense_192_loss: 1.8247 - val_dense_193_loss: 1.5206 - val_dense_194_loss: 0.3041 - val_dense_195_loss: 1.1921e-07 - val_dense_196_loss: 1.1921e-07 - val_dense_197_loss: 1.1921e-07 - val_dense_198_loss: 1.1921e-07 - val_dense_199_loss: 1.1921e-07 - val_dense_200_loss: 1.1921e-07 - val_dense_201_loss: 1.1921e-07 - val_dense_202_loss: 1.1921e-07 - val_dense_203_loss: 1.1921e-07 - val_dense_181_acc: 0.0566 - val_dense_182_acc: 0.1321 - val_dense_183_acc: 0.0755 - val_dense_184_acc: 0.0755 - val_dense_185_acc: 0.1132 - val_dense_186_acc: 0.0755 - val_dense_187_acc: 0.0566 - val_dense_188_acc: 0.4528 - val_dense_189_acc: 0.5849 - val_dense_190_acc: 0.8302 - val_dense_191_acc: 0.8491 - val_dense_192_acc: 0.8868 - val_dense_193_acc: 0.9057 - val_dense_194_acc: 0.9811 - val_dense_195_acc: 1.0000 - val_dense_196_acc: 1.0000 - val_dense_197_acc: 1.0000 - val_dense_198_acc: 1.0000 - val_dense_199_acc: 1.0000 - val_dense_200_acc: 1.0000 - val_dense_201_acc: 1.0000 - val_dense_202_acc: 1.0000 - val_dense_203_acc: 1.0000\n",
      "Epoch 3/15\n",
      "64s - loss: 128.0874 - dense_181_loss: 15.0207 - dense_182_loss: 13.9919 - dense_183_loss: 14.8835 - dense_184_loss: 15.1579 - dense_185_loss: 14.7463 - dense_186_loss: 13.9576 - dense_187_loss: 15.5351 - dense_188_loss: 9.1222 - dense_189_loss: 6.4815 - dense_190_loss: 4.3210 - dense_191_loss: 2.4692 - dense_192_loss: 1.0631 - dense_193_loss: 0.6516 - dense_194_loss: 0.4115 - dense_195_loss: 0.1715 - dense_196_loss: 0.0686 - dense_197_loss: 0.0343 - dense_198_loss: 1.1921e-07 - dense_199_loss: 1.1921e-07 - dense_200_loss: 1.1921e-07 - dense_201_loss: 1.1921e-07 - dense_202_loss: 1.1921e-07 - dense_203_loss: 1.1921e-07 - dense_181_acc: 0.0681 - dense_182_acc: 0.1319 - dense_183_acc: 0.0766 - dense_184_acc: 0.0596 - dense_185_acc: 0.0851 - dense_186_acc: 0.1340 - dense_187_acc: 0.0362 - dense_188_acc: 0.4340 - dense_189_acc: 0.5979 - dense_190_acc: 0.7319 - dense_191_acc: 0.8468 - dense_192_acc: 0.9340 - dense_193_acc: 0.9596 - dense_194_acc: 0.9745 - dense_195_acc: 0.9894 - dense_196_acc: 0.9957 - dense_197_acc: 0.9979 - dense_198_acc: 1.0000 - dense_199_acc: 1.0000 - dense_200_acc: 1.0000 - dense_201_acc: 1.0000 - dense_202_acc: 1.0000 - dense_203_acc: 1.0000 - val_loss: 127.7283 - val_dense_181_loss: 15.2058 - val_dense_182_loss: 13.9893 - val_dense_183_loss: 14.9016 - val_dense_184_loss: 14.9016 - val_dense_185_loss: 14.2934 - val_dense_186_loss: 14.9016 - val_dense_187_loss: 15.2058 - val_dense_188_loss: 8.8193 - val_dense_189_loss: 6.6905 - val_dense_190_loss: 2.7370 - val_dense_191_loss: 2.4329 - val_dense_192_loss: 1.8247 - val_dense_193_loss: 1.5206 - val_dense_194_loss: 0.3041 - val_dense_195_loss: 1.1921e-07 - val_dense_196_loss: 1.1921e-07 - val_dense_197_loss: 1.1921e-07 - val_dense_198_loss: 1.1921e-07 - val_dense_199_loss: 1.1921e-07 - val_dense_200_loss: 1.1921e-07 - val_dense_201_loss: 1.1921e-07 - val_dense_202_loss: 1.1921e-07 - val_dense_203_loss: 1.1921e-07 - val_dense_181_acc: 0.0566 - val_dense_182_acc: 0.1321 - val_dense_183_acc: 0.0755 - val_dense_184_acc: 0.0755 - val_dense_185_acc: 0.1132 - val_dense_186_acc: 0.0755 - val_dense_187_acc: 0.0566 - val_dense_188_acc: 0.4528 - val_dense_189_acc: 0.5849 - val_dense_190_acc: 0.8302 - val_dense_191_acc: 0.8491 - val_dense_192_acc: 0.8868 - val_dense_193_acc: 0.9057 - val_dense_194_acc: 0.9811 - val_dense_195_acc: 1.0000 - val_dense_196_acc: 1.0000 - val_dense_197_acc: 1.0000 - val_dense_198_acc: 1.0000 - val_dense_199_acc: 1.0000 - val_dense_200_acc: 1.0000 - val_dense_201_acc: 1.0000 - val_dense_202_acc: 1.0000 - val_dense_203_acc: 1.0000\n",
      "Epoch 4/15\n",
      "107s - loss: 127.9846 - dense_181_loss: 15.0207 - dense_182_loss: 13.9919 - dense_183_loss: 14.8835 - dense_184_loss: 15.0207 - dense_185_loss: 14.7463 - dense_186_loss: 13.9576 - dense_187_loss: 15.5351 - dense_188_loss: 9.1565 - dense_189_loss: 6.4815 - dense_190_loss: 4.3210 - dense_191_loss: 2.4692 - dense_192_loss: 1.0631 - dense_193_loss: 0.6516 - dense_194_loss: 0.4115 - dense_195_loss: 0.1715 - dense_196_loss: 0.0686 - dense_197_loss: 0.0343 - dense_198_loss: 1.1921e-07 - dense_199_loss: 1.1921e-07 - dense_200_loss: 1.1921e-07 - dense_201_loss: 1.1921e-07 - dense_202_loss: 1.1921e-07 - dense_203_loss: 1.1921e-07 - dense_181_acc: 0.0681 - dense_182_acc: 0.1319 - dense_183_acc: 0.0766 - dense_184_acc: 0.0681 - dense_185_acc: 0.0851 - dense_186_acc: 0.1340 - dense_187_acc: 0.0362 - dense_188_acc: 0.4319 - dense_189_acc: 0.5979 - dense_190_acc: 0.7319 - dense_191_acc: 0.8468 - dense_192_acc: 0.9340 - dense_193_acc: 0.9596 - dense_194_acc: 0.9745 - dense_195_acc: 0.9894 - dense_196_acc: 0.9957 - dense_197_acc: 0.9979 - dense_198_acc: 1.0000 - dense_199_acc: 1.0000 - dense_200_acc: 1.0000 - dense_201_acc: 1.0000 - dense_202_acc: 1.0000 - dense_203_acc: 1.0000 - val_loss: 127.7283 - val_dense_181_loss: 15.2058 - val_dense_182_loss: 13.9893 - val_dense_183_loss: 14.9016 - val_dense_184_loss: 14.9016 - val_dense_185_loss: 14.2934 - val_dense_186_loss: 14.9016 - val_dense_187_loss: 15.2058 - val_dense_188_loss: 8.8193 - val_dense_189_loss: 6.6905 - val_dense_190_loss: 2.7370 - val_dense_191_loss: 2.4329 - val_dense_192_loss: 1.8247 - val_dense_193_loss: 1.5206 - val_dense_194_loss: 0.3041 - val_dense_195_loss: 1.1921e-07 - val_dense_196_loss: 1.1921e-07 - val_dense_197_loss: 1.1921e-07 - val_dense_198_loss: 1.1921e-07 - val_dense_199_loss: 1.1921e-07 - val_dense_200_loss: 1.1921e-07 - val_dense_201_loss: 1.1921e-07 - val_dense_202_loss: 1.1921e-07 - val_dense_203_loss: 1.1921e-07 - val_dense_181_acc: 0.0566 - val_dense_182_acc: 0.1321 - val_dense_183_acc: 0.0755 - val_dense_184_acc: 0.0755 - val_dense_185_acc: 0.1132 - val_dense_186_acc: 0.0755 - val_dense_187_acc: 0.0566 - val_dense_188_acc: 0.4528 - val_dense_189_acc: 0.5849 - val_dense_190_acc: 0.8302 - val_dense_191_acc: 0.8491 - val_dense_192_acc: 0.8868 - val_dense_193_acc: 0.9057 - val_dense_194_acc: 0.9811 - val_dense_195_acc: 1.0000 - val_dense_196_acc: 1.0000 - val_dense_197_acc: 1.0000 - val_dense_198_acc: 1.0000 - val_dense_199_acc: 1.0000 - val_dense_200_acc: 1.0000 - val_dense_201_acc: 1.0000 - val_dense_202_acc: 1.0000 - val_dense_203_acc: 1.0000\n",
      "Epoch 5/15\n",
      "108s - loss: 127.9503 - dense_181_loss: 15.0207 - dense_182_loss: 13.9919 - dense_183_loss: 14.8835 - dense_184_loss: 15.0550 - dense_185_loss: 14.7121 - dense_186_loss: 13.9576 - dense_187_loss: 15.5351 - dense_188_loss: 9.1222 - dense_189_loss: 6.4815 - dense_190_loss: 4.3210 - dense_191_loss: 2.4692 - dense_192_loss: 1.0631 - dense_193_loss: 0.6516 - dense_194_loss: 0.4115 - dense_195_loss: 0.1715 - dense_196_loss: 0.0686 - dense_197_loss: 0.0343 - dense_198_loss: 1.1921e-07 - dense_199_loss: 1.1921e-07 - dense_200_loss: 1.1921e-07 - dense_201_loss: 1.1921e-07 - dense_202_loss: 1.1921e-07 - dense_203_loss: 1.1921e-07 - dense_181_acc: 0.0681 - dense_182_acc: 0.1319 - dense_183_acc: 0.0766 - dense_184_acc: 0.0660 - dense_185_acc: 0.0872 - dense_186_acc: 0.1340 - dense_187_acc: 0.0362 - dense_188_acc: 0.4340 - dense_189_acc: 0.5979 - dense_190_acc: 0.7319 - dense_191_acc: 0.8468 - dense_192_acc: 0.9340 - dense_193_acc: 0.9596 - dense_194_acc: 0.9745 - dense_195_acc: 0.9894 - dense_196_acc: 0.9957 - dense_197_acc: 0.9979 - dense_198_acc: 1.0000 - dense_199_acc: 1.0000 - dense_200_acc: 1.0000 - dense_201_acc: 1.0000 - dense_202_acc: 1.0000 - dense_203_acc: 1.0000 - val_loss: 127.7283 - val_dense_181_loss: 15.2058 - val_dense_182_loss: 13.9893 - val_dense_183_loss: 14.9016 - val_dense_184_loss: 14.9016 - val_dense_185_loss: 14.2934 - val_dense_186_loss: 14.9016 - val_dense_187_loss: 15.2058 - val_dense_188_loss: 8.8193 - val_dense_189_loss: 6.6905 - val_dense_190_loss: 2.7370 - val_dense_191_loss: 2.4329 - val_dense_192_loss: 1.8247 - val_dense_193_loss: 1.5206 - val_dense_194_loss: 0.3041 - val_dense_195_loss: 1.1921e-07 - val_dense_196_loss: 1.1921e-07 - val_dense_197_loss: 1.1921e-07 - val_dense_198_loss: 1.1921e-07 - val_dense_199_loss: 1.1921e-07 - val_dense_200_loss: 1.1921e-07 - val_dense_201_loss: 1.1921e-07 - val_dense_202_loss: 1.1921e-07 - val_dense_203_loss: 1.1921e-07 - val_dense_181_acc: 0.0566 - val_dense_182_acc: 0.1321 - val_dense_183_acc: 0.0755 - val_dense_184_acc: 0.0755 - val_dense_185_acc: 0.1132 - val_dense_186_acc: 0.0755 - val_dense_187_acc: 0.0566 - val_dense_188_acc: 0.4528 - val_dense_189_acc: 0.5849 - val_dense_190_acc: 0.8302 - val_dense_191_acc: 0.8491 - val_dense_192_acc: 0.8868 - val_dense_193_acc: 0.9057 - val_dense_194_acc: 0.9811 - val_dense_195_acc: 1.0000 - val_dense_196_acc: 1.0000 - val_dense_197_acc: 1.0000 - val_dense_198_acc: 1.0000 - val_dense_199_acc: 1.0000 - val_dense_200_acc: 1.0000 - val_dense_201_acc: 1.0000 - val_dense_202_acc: 1.0000 - val_dense_203_acc: 1.0000\n",
      "Epoch 6/15\n",
      "108s - loss: 128.0532 - dense_181_loss: 15.0207 - dense_182_loss: 13.9919 - dense_183_loss: 14.8835 - dense_184_loss: 15.1922 - dense_185_loss: 14.6778 - dense_186_loss: 13.9576 - dense_187_loss: 15.5351 - dense_188_loss: 9.1222 - dense_189_loss: 6.4815 - dense_190_loss: 4.3210 - dense_191_loss: 2.4692 - dense_192_loss: 1.0631 - dense_193_loss: 0.6516 - dense_194_loss: 0.4115 - dense_195_loss: 0.1715 - dense_196_loss: 0.0686 - dense_197_loss: 0.0343 - dense_198_loss: 1.1921e-07 - dense_199_loss: 1.1921e-07 - dense_200_loss: 1.1921e-07 - dense_201_loss: 1.1921e-07 - dense_202_loss: 1.1921e-07 - dense_203_loss: 1.1921e-07 - dense_181_acc: 0.0681 - dense_182_acc: 0.1319 - dense_183_acc: 0.0766 - dense_184_acc: 0.0574 - dense_185_acc: 0.0894 - dense_186_acc: 0.1340 - dense_187_acc: 0.0362 - dense_188_acc: 0.4340 - dense_189_acc: 0.5979 - dense_190_acc: 0.7319 - dense_191_acc: 0.8468 - dense_192_acc: 0.9340 - dense_193_acc: 0.9596 - dense_194_acc: 0.9745 - dense_195_acc: 0.9894 - dense_196_acc: 0.9957 - dense_197_acc: 0.9979 - dense_198_acc: 1.0000 - dense_199_acc: 1.0000 - dense_200_acc: 1.0000 - dense_201_acc: 1.0000 - dense_202_acc: 1.0000 - dense_203_acc: 1.0000 - val_loss: 127.7283 - val_dense_181_loss: 15.2058 - val_dense_182_loss: 13.9893 - val_dense_183_loss: 14.9016 - val_dense_184_loss: 14.9016 - val_dense_185_loss: 14.2934 - val_dense_186_loss: 14.9016 - val_dense_187_loss: 15.2058 - val_dense_188_loss: 8.8193 - val_dense_189_loss: 6.6905 - val_dense_190_loss: 2.7370 - val_dense_191_loss: 2.4329 - val_dense_192_loss: 1.8247 - val_dense_193_loss: 1.5206 - val_dense_194_loss: 0.3041 - val_dense_195_loss: 1.1921e-07 - val_dense_196_loss: 1.1921e-07 - val_dense_197_loss: 1.1921e-07 - val_dense_198_loss: 1.1921e-07 - val_dense_199_loss: 1.1921e-07 - val_dense_200_loss: 1.1921e-07 - val_dense_201_loss: 1.1921e-07 - val_dense_202_loss: 1.1921e-07 - val_dense_203_loss: 1.1921e-07 - val_dense_181_acc: 0.0566 - val_dense_182_acc: 0.1321 - val_dense_183_acc: 0.0755 - val_dense_184_acc: 0.0755 - val_dense_185_acc: 0.1132 - val_dense_186_acc: 0.0755 - val_dense_187_acc: 0.0566 - val_dense_188_acc: 0.4528 - val_dense_189_acc: 0.5849 - val_dense_190_acc: 0.8302 - val_dense_191_acc: 0.8491 - val_dense_192_acc: 0.8868 - val_dense_193_acc: 0.9057 - val_dense_194_acc: 0.9811 - val_dense_195_acc: 1.0000 - val_dense_196_acc: 1.0000 - val_dense_197_acc: 1.0000 - val_dense_198_acc: 1.0000 - val_dense_199_acc: 1.0000 - val_dense_200_acc: 1.0000 - val_dense_201_acc: 1.0000 - val_dense_202_acc: 1.0000 - val_dense_203_acc: 1.0000\n",
      "Epoch 7/15\n",
      "112s - loss: 127.8817 - dense_181_loss: 15.0207 - dense_182_loss: 13.9919 - dense_183_loss: 14.8835 - dense_184_loss: 14.9864 - dense_185_loss: 14.7121 - dense_186_loss: 13.9576 - dense_187_loss: 15.5351 - dense_188_loss: 9.1222 - dense_189_loss: 6.4815 - dense_190_loss: 4.3210 - dense_191_loss: 2.4692 - dense_192_loss: 1.0631 - dense_193_loss: 0.6516 - dense_194_loss: 0.4115 - dense_195_loss: 0.1715 - dense_196_loss: 0.0686 - dense_197_loss: 0.0343 - dense_198_loss: 1.1921e-07 - dense_199_loss: 1.1921e-07 - dense_200_loss: 1.1921e-07 - dense_201_loss: 1.1921e-07 - dense_202_loss: 1.1921e-07 - dense_203_loss: 1.1921e-07 - dense_181_acc: 0.0681 - dense_182_acc: 0.1319 - dense_183_acc: 0.0766 - dense_184_acc: 0.0702 - dense_185_acc: 0.0872 - dense_186_acc: 0.1340 - dense_187_acc: 0.0362 - dense_188_acc: 0.4340 - dense_189_acc: 0.5979 - dense_190_acc: 0.7319 - dense_191_acc: 0.8468 - dense_192_acc: 0.9340 - dense_193_acc: 0.9596 - dense_194_acc: 0.9745 - dense_195_acc: 0.9894 - dense_196_acc: 0.9957 - dense_197_acc: 0.9979 - dense_198_acc: 1.0000 - dense_199_acc: 1.0000 - dense_200_acc: 1.0000 - dense_201_acc: 1.0000 - dense_202_acc: 1.0000 - dense_203_acc: 1.0000 - val_loss: 127.7283 - val_dense_181_loss: 15.2058 - val_dense_182_loss: 13.9893 - val_dense_183_loss: 14.9016 - val_dense_184_loss: 14.9016 - val_dense_185_loss: 14.2934 - val_dense_186_loss: 14.9016 - val_dense_187_loss: 15.2058 - val_dense_188_loss: 8.8193 - val_dense_189_loss: 6.6905 - val_dense_190_loss: 2.7370 - val_dense_191_loss: 2.4329 - val_dense_192_loss: 1.8247 - val_dense_193_loss: 1.5206 - val_dense_194_loss: 0.3041 - val_dense_195_loss: 1.1921e-07 - val_dense_196_loss: 1.1921e-07 - val_dense_197_loss: 1.1921e-07 - val_dense_198_loss: 1.1921e-07 - val_dense_199_loss: 1.1921e-07 - val_dense_200_loss: 1.1921e-07 - val_dense_201_loss: 1.1921e-07 - val_dense_202_loss: 1.1921e-07 - val_dense_203_loss: 1.1921e-07 - val_dense_181_acc: 0.0566 - val_dense_182_acc: 0.1321 - val_dense_183_acc: 0.0755 - val_dense_184_acc: 0.0755 - val_dense_185_acc: 0.1132 - val_dense_186_acc: 0.0755 - val_dense_187_acc: 0.0566 - val_dense_188_acc: 0.4528 - val_dense_189_acc: 0.5849 - val_dense_190_acc: 0.8302 - val_dense_191_acc: 0.8491 - val_dense_192_acc: 0.8868 - val_dense_193_acc: 0.9057 - val_dense_194_acc: 0.9811 - val_dense_195_acc: 1.0000 - val_dense_196_acc: 1.0000 - val_dense_197_acc: 1.0000 - val_dense_198_acc: 1.0000 - val_dense_199_acc: 1.0000 - val_dense_200_acc: 1.0000 - val_dense_201_acc: 1.0000 - val_dense_202_acc: 1.0000 - val_dense_203_acc: 1.0000\n",
      "Epoch 8/15\n",
      "77s - loss: 128.0532 - dense_181_loss: 15.0207 - dense_182_loss: 13.9919 - dense_183_loss: 14.8835 - dense_184_loss: 15.0893 - dense_185_loss: 14.7806 - dense_186_loss: 13.9576 - dense_187_loss: 15.5351 - dense_188_loss: 9.1222 - dense_189_loss: 6.4815 - dense_190_loss: 4.3210 - dense_191_loss: 2.4692 - dense_192_loss: 1.0631 - dense_193_loss: 0.6516 - dense_194_loss: 0.4115 - dense_195_loss: 0.1715 - dense_196_loss: 0.0686 - dense_197_loss: 0.0343 - dense_198_loss: 1.1921e-07 - dense_199_loss: 1.1921e-07 - dense_200_loss: 1.1921e-07 - dense_201_loss: 1.1921e-07 - dense_202_loss: 1.1921e-07 - dense_203_loss: 1.1921e-07 - dense_181_acc: 0.0681 - dense_182_acc: 0.1319 - dense_183_acc: 0.0766 - dense_184_acc: 0.0638 - dense_185_acc: 0.0830 - dense_186_acc: 0.1340 - dense_187_acc: 0.0362 - dense_188_acc: 0.4340 - dense_189_acc: 0.5979 - dense_190_acc: 0.7319 - dense_191_acc: 0.8468 - dense_192_acc: 0.9340 - dense_193_acc: 0.9596 - dense_194_acc: 0.9745 - dense_195_acc: 0.9894 - dense_196_acc: 0.9957 - dense_197_acc: 0.9979 - dense_198_acc: 1.0000 - dense_199_acc: 1.0000 - dense_200_acc: 1.0000 - dense_201_acc: 1.0000 - dense_202_acc: 1.0000 - dense_203_acc: 1.0000 - val_loss: 127.7283 - val_dense_181_loss: 15.2058 - val_dense_182_loss: 13.9893 - val_dense_183_loss: 14.9016 - val_dense_184_loss: 14.9016 - val_dense_185_loss: 14.2934 - val_dense_186_loss: 14.9016 - val_dense_187_loss: 15.2058 - val_dense_188_loss: 8.8193 - val_dense_189_loss: 6.6905 - val_dense_190_loss: 2.7370 - val_dense_191_loss: 2.4329 - val_dense_192_loss: 1.8247 - val_dense_193_loss: 1.5206 - val_dense_194_loss: 0.3041 - val_dense_195_loss: 1.1921e-07 - val_dense_196_loss: 1.1921e-07 - val_dense_197_loss: 1.1921e-07 - val_dense_198_loss: 1.1921e-07 - val_dense_199_loss: 1.1921e-07 - val_dense_200_loss: 1.1921e-07 - val_dense_201_loss: 1.1921e-07 - val_dense_202_loss: 1.1921e-07 - val_dense_203_loss: 1.1921e-07 - val_dense_181_acc: 0.0566 - val_dense_182_acc: 0.1321 - val_dense_183_acc: 0.0755 - val_dense_184_acc: 0.0755 - val_dense_185_acc: 0.1132 - val_dense_186_acc: 0.0755 - val_dense_187_acc: 0.0566 - val_dense_188_acc: 0.4528 - val_dense_189_acc: 0.5849 - val_dense_190_acc: 0.8302 - val_dense_191_acc: 0.8491 - val_dense_192_acc: 0.8868 - val_dense_193_acc: 0.9057 - val_dense_194_acc: 0.9811 - val_dense_195_acc: 1.0000 - val_dense_196_acc: 1.0000 - val_dense_197_acc: 1.0000 - val_dense_198_acc: 1.0000 - val_dense_199_acc: 1.0000 - val_dense_200_acc: 1.0000 - val_dense_201_acc: 1.0000 - val_dense_202_acc: 1.0000 - val_dense_203_acc: 1.0000\n",
      "Epoch 9/15\n",
      "104s - loss: 127.8131 - dense_181_loss: 15.0207 - dense_182_loss: 13.9919 - dense_183_loss: 14.8835 - dense_184_loss: 14.9521 - dense_185_loss: 14.6778 - dense_186_loss: 13.9576 - dense_187_loss: 15.5351 - dense_188_loss: 9.1222 - dense_189_loss: 6.4815 - dense_190_loss: 4.3210 - dense_191_loss: 2.4692 - dense_192_loss: 1.0631 - dense_193_loss: 0.6516 - dense_194_loss: 0.4115 - dense_195_loss: 0.1715 - dense_196_loss: 0.0686 - dense_197_loss: 0.0343 - dense_198_loss: 1.1921e-07 - dense_199_loss: 1.1921e-07 - dense_200_loss: 1.1921e-07 - dense_201_loss: 1.1921e-07 - dense_202_loss: 1.1921e-07 - dense_203_loss: 1.1921e-07 - dense_181_acc: 0.0681 - dense_182_acc: 0.1319 - dense_183_acc: 0.0766 - dense_184_acc: 0.0723 - dense_185_acc: 0.0894 - dense_186_acc: 0.1340 - dense_187_acc: 0.0362 - dense_188_acc: 0.4340 - dense_189_acc: 0.5979 - dense_190_acc: 0.7319 - dense_191_acc: 0.8468 - dense_192_acc: 0.9340 - dense_193_acc: 0.9596 - dense_194_acc: 0.9745 - dense_195_acc: 0.9894 - dense_196_acc: 0.9957 - dense_197_acc: 0.9979 - dense_198_acc: 1.0000 - dense_199_acc: 1.0000 - dense_200_acc: 1.0000 - dense_201_acc: 1.0000 - dense_202_acc: 1.0000 - dense_203_acc: 1.0000 - val_loss: 127.7283 - val_dense_181_loss: 15.2058 - val_dense_182_loss: 13.9893 - val_dense_183_loss: 14.9016 - val_dense_184_loss: 14.9016 - val_dense_185_loss: 14.2934 - val_dense_186_loss: 14.9016 - val_dense_187_loss: 15.2058 - val_dense_188_loss: 8.8193 - val_dense_189_loss: 6.6905 - val_dense_190_loss: 2.7370 - val_dense_191_loss: 2.4329 - val_dense_192_loss: 1.8247 - val_dense_193_loss: 1.5206 - val_dense_194_loss: 0.3041 - val_dense_195_loss: 1.1921e-07 - val_dense_196_loss: 1.1921e-07 - val_dense_197_loss: 1.1921e-07 - val_dense_198_loss: 1.1921e-07 - val_dense_199_loss: 1.1921e-07 - val_dense_200_loss: 1.1921e-07 - val_dense_201_loss: 1.1921e-07 - val_dense_202_loss: 1.1921e-07 - val_dense_203_loss: 1.1921e-07 - val_dense_181_acc: 0.0566 - val_dense_182_acc: 0.1321 - val_dense_183_acc: 0.0755 - val_dense_184_acc: 0.0755 - val_dense_185_acc: 0.1132 - val_dense_186_acc: 0.0755 - val_dense_187_acc: 0.0566 - val_dense_188_acc: 0.4528 - val_dense_189_acc: 0.5849 - val_dense_190_acc: 0.8302 - val_dense_191_acc: 0.8491 - val_dense_192_acc: 0.8868 - val_dense_193_acc: 0.9057 - val_dense_194_acc: 0.9811 - val_dense_195_acc: 1.0000 - val_dense_196_acc: 1.0000 - val_dense_197_acc: 1.0000 - val_dense_198_acc: 1.0000 - val_dense_199_acc: 1.0000 - val_dense_200_acc: 1.0000 - val_dense_201_acc: 1.0000 - val_dense_202_acc: 1.0000 - val_dense_203_acc: 1.0000\n",
      "Epoch 10/15\n",
      "127s - loss: 127.9160 - dense_181_loss: 15.0207 - dense_182_loss: 13.9919 - dense_183_loss: 14.8835 - dense_184_loss: 14.9521 - dense_185_loss: 14.7806 - dense_186_loss: 13.9576 - dense_187_loss: 15.5351 - dense_188_loss: 9.1222 - dense_189_loss: 6.4815 - dense_190_loss: 4.3210 - dense_191_loss: 2.4692 - dense_192_loss: 1.0631 - dense_193_loss: 0.6516 - dense_194_loss: 0.4115 - dense_195_loss: 0.1715 - dense_196_loss: 0.0686 - dense_197_loss: 0.0343 - dense_198_loss: 1.1921e-07 - dense_199_loss: 1.1921e-07 - dense_200_loss: 1.1921e-07 - dense_201_loss: 1.1921e-07 - dense_202_loss: 1.1921e-07 - dense_203_loss: 1.1921e-07 - dense_181_acc: 0.0681 - dense_182_acc: 0.1319 - dense_183_acc: 0.0766 - dense_184_acc: 0.0723 - dense_185_acc: 0.0830 - dense_186_acc: 0.1340 - dense_187_acc: 0.0362 - dense_188_acc: 0.4340 - dense_189_acc: 0.5979 - dense_190_acc: 0.7319 - dense_191_acc: 0.8468 - dense_192_acc: 0.9340 - dense_193_acc: 0.9596 - dense_194_acc: 0.9745 - dense_195_acc: 0.9894 - dense_196_acc: 0.9957 - dense_197_acc: 0.9979 - dense_198_acc: 1.0000 - dense_199_acc: 1.0000 - dense_200_acc: 1.0000 - dense_201_acc: 1.0000 - dense_202_acc: 1.0000 - dense_203_acc: 1.0000 - val_loss: 127.7283 - val_dense_181_loss: 15.2058 - val_dense_182_loss: 13.9893 - val_dense_183_loss: 14.9016 - val_dense_184_loss: 14.9016 - val_dense_185_loss: 14.2934 - val_dense_186_loss: 14.9016 - val_dense_187_loss: 15.2058 - val_dense_188_loss: 8.8193 - val_dense_189_loss: 6.6905 - val_dense_190_loss: 2.7370 - val_dense_191_loss: 2.4329 - val_dense_192_loss: 1.8247 - val_dense_193_loss: 1.5206 - val_dense_194_loss: 0.3041 - val_dense_195_loss: 1.1921e-07 - val_dense_196_loss: 1.1921e-07 - val_dense_197_loss: 1.1921e-07 - val_dense_198_loss: 1.1921e-07 - val_dense_199_loss: 1.1921e-07 - val_dense_200_loss: 1.1921e-07 - val_dense_201_loss: 1.1921e-07 - val_dense_202_loss: 1.1921e-07 - val_dense_203_loss: 1.1921e-07 - val_dense_181_acc: 0.0566 - val_dense_182_acc: 0.1321 - val_dense_183_acc: 0.0755 - val_dense_184_acc: 0.0755 - val_dense_185_acc: 0.1132 - val_dense_186_acc: 0.0755 - val_dense_187_acc: 0.0566 - val_dense_188_acc: 0.4528 - val_dense_189_acc: 0.5849 - val_dense_190_acc: 0.8302 - val_dense_191_acc: 0.8491 - val_dense_192_acc: 0.8868 - val_dense_193_acc: 0.9057 - val_dense_194_acc: 0.9811 - val_dense_195_acc: 1.0000 - val_dense_196_acc: 1.0000 - val_dense_197_acc: 1.0000 - val_dense_198_acc: 1.0000 - val_dense_199_acc: 1.0000 - val_dense_200_acc: 1.0000 - val_dense_201_acc: 1.0000 - val_dense_202_acc: 1.0000 - val_dense_203_acc: 1.0000\n",
      "Epoch 11/15\n",
      "129s - loss: 128.1217 - dense_181_loss: 15.0207 - dense_182_loss: 13.9919 - dense_183_loss: 14.8835 - dense_184_loss: 15.2265 - dense_185_loss: 14.7121 - dense_186_loss: 13.9576 - dense_187_loss: 15.5351 - dense_188_loss: 9.1222 - dense_189_loss: 6.4815 - dense_190_loss: 4.3210 - dense_191_loss: 2.4692 - dense_192_loss: 1.0631 - dense_193_loss: 0.6516 - dense_194_loss: 0.4115 - dense_195_loss: 0.1715 - dense_196_loss: 0.0686 - dense_197_loss: 0.0343 - dense_198_loss: 1.1921e-07 - dense_199_loss: 1.1921e-07 - dense_200_loss: 1.1921e-07 - dense_201_loss: 1.1921e-07 - dense_202_loss: 1.1921e-07 - dense_203_loss: 1.1921e-07 - dense_181_acc: 0.0681 - dense_182_acc: 0.1319 - dense_183_acc: 0.0766 - dense_184_acc: 0.0553 - dense_185_acc: 0.0872 - dense_186_acc: 0.1340 - dense_187_acc: 0.0362 - dense_188_acc: 0.4340 - dense_189_acc: 0.5979 - dense_190_acc: 0.7319 - dense_191_acc: 0.8468 - dense_192_acc: 0.9340 - dense_193_acc: 0.9596 - dense_194_acc: 0.9745 - dense_195_acc: 0.9894 - dense_196_acc: 0.9957 - dense_197_acc: 0.9979 - dense_198_acc: 1.0000 - dense_199_acc: 1.0000 - dense_200_acc: 1.0000 - dense_201_acc: 1.0000 - dense_202_acc: 1.0000 - dense_203_acc: 1.0000 - val_loss: 127.7283 - val_dense_181_loss: 15.2058 - val_dense_182_loss: 13.9893 - val_dense_183_loss: 14.9016 - val_dense_184_loss: 14.9016 - val_dense_185_loss: 14.2934 - val_dense_186_loss: 14.9016 - val_dense_187_loss: 15.2058 - val_dense_188_loss: 8.8193 - val_dense_189_loss: 6.6905 - val_dense_190_loss: 2.7370 - val_dense_191_loss: 2.4329 - val_dense_192_loss: 1.8247 - val_dense_193_loss: 1.5206 - val_dense_194_loss: 0.3041 - val_dense_195_loss: 1.1921e-07 - val_dense_196_loss: 1.1921e-07 - val_dense_197_loss: 1.1921e-07 - val_dense_198_loss: 1.1921e-07 - val_dense_199_loss: 1.1921e-07 - val_dense_200_loss: 1.1921e-07 - val_dense_201_loss: 1.1921e-07 - val_dense_202_loss: 1.1921e-07 - val_dense_203_loss: 1.1921e-07 - val_dense_181_acc: 0.0566 - val_dense_182_acc: 0.1321 - val_dense_183_acc: 0.0755 - val_dense_184_acc: 0.0755 - val_dense_185_acc: 0.1132 - val_dense_186_acc: 0.0755 - val_dense_187_acc: 0.0566 - val_dense_188_acc: 0.4528 - val_dense_189_acc: 0.5849 - val_dense_190_acc: 0.8302 - val_dense_191_acc: 0.8491 - val_dense_192_acc: 0.8868 - val_dense_193_acc: 0.9057 - val_dense_194_acc: 0.9811 - val_dense_195_acc: 1.0000 - val_dense_196_acc: 1.0000 - val_dense_197_acc: 1.0000 - val_dense_198_acc: 1.0000 - val_dense_199_acc: 1.0000 - val_dense_200_acc: 1.0000 - val_dense_201_acc: 1.0000 - val_dense_202_acc: 1.0000 - val_dense_203_acc: 1.0000\n",
      "Epoch 12/15\n",
      "132s - loss: 128.1903 - dense_181_loss: 15.0207 - dense_182_loss: 13.9919 - dense_183_loss: 14.8835 - dense_184_loss: 15.3293 - dense_185_loss: 14.6778 - dense_186_loss: 13.9576 - dense_187_loss: 15.5351 - dense_188_loss: 9.1222 - dense_189_loss: 6.4815 - dense_190_loss: 4.3210 - dense_191_loss: 2.4692 - dense_192_loss: 1.0631 - dense_193_loss: 0.6516 - dense_194_loss: 0.4115 - dense_195_loss: 0.1715 - dense_196_loss: 0.0686 - dense_197_loss: 0.0343 - dense_198_loss: 1.1921e-07 - dense_199_loss: 1.1921e-07 - dense_200_loss: 1.1921e-07 - dense_201_loss: 1.1921e-07 - dense_202_loss: 1.1921e-07 - dense_203_loss: 1.1921e-07 - dense_181_acc: 0.0681 - dense_182_acc: 0.1319 - dense_183_acc: 0.0766 - dense_184_acc: 0.0489 - dense_185_acc: 0.0894 - dense_186_acc: 0.1340 - dense_187_acc: 0.0362 - dense_188_acc: 0.4340 - dense_189_acc: 0.5979 - dense_190_acc: 0.7319 - dense_191_acc: 0.8468 - dense_192_acc: 0.9340 - dense_193_acc: 0.9596 - dense_194_acc: 0.9745 - dense_195_acc: 0.9894 - dense_196_acc: 0.9957 - dense_197_acc: 0.9979 - dense_198_acc: 1.0000 - dense_199_acc: 1.0000 - dense_200_acc: 1.0000 - dense_201_acc: 1.0000 - dense_202_acc: 1.0000 - dense_203_acc: 1.0000 - val_loss: 127.7283 - val_dense_181_loss: 15.2058 - val_dense_182_loss: 13.9893 - val_dense_183_loss: 14.9016 - val_dense_184_loss: 14.9016 - val_dense_185_loss: 14.2934 - val_dense_186_loss: 14.9016 - val_dense_187_loss: 15.2058 - val_dense_188_loss: 8.8193 - val_dense_189_loss: 6.6905 - val_dense_190_loss: 2.7370 - val_dense_191_loss: 2.4329 - val_dense_192_loss: 1.8247 - val_dense_193_loss: 1.5206 - val_dense_194_loss: 0.3041 - val_dense_195_loss: 1.1921e-07 - val_dense_196_loss: 1.1921e-07 - val_dense_197_loss: 1.1921e-07 - val_dense_198_loss: 1.1921e-07 - val_dense_199_loss: 1.1921e-07 - val_dense_200_loss: 1.1921e-07 - val_dense_201_loss: 1.1921e-07 - val_dense_202_loss: 1.1921e-07 - val_dense_203_loss: 1.1921e-07 - val_dense_181_acc: 0.0566 - val_dense_182_acc: 0.1321 - val_dense_183_acc: 0.0755 - val_dense_184_acc: 0.0755 - val_dense_185_acc: 0.1132 - val_dense_186_acc: 0.0755 - val_dense_187_acc: 0.0566 - val_dense_188_acc: 0.4528 - val_dense_189_acc: 0.5849 - val_dense_190_acc: 0.8302 - val_dense_191_acc: 0.8491 - val_dense_192_acc: 0.8868 - val_dense_193_acc: 0.9057 - val_dense_194_acc: 0.9811 - val_dense_195_acc: 1.0000 - val_dense_196_acc: 1.0000 - val_dense_197_acc: 1.0000 - val_dense_198_acc: 1.0000 - val_dense_199_acc: 1.0000 - val_dense_200_acc: 1.0000 - val_dense_201_acc: 1.0000 - val_dense_202_acc: 1.0000 - val_dense_203_acc: 1.0000\n",
      "Epoch 13/15\n",
      "105s - loss: 127.9846 - dense_181_loss: 15.0207 - dense_182_loss: 13.9919 - dense_183_loss: 14.8835 - dense_184_loss: 15.0893 - dense_185_loss: 14.7121 - dense_186_loss: 13.9576 - dense_187_loss: 15.5351 - dense_188_loss: 9.1222 - dense_189_loss: 6.4815 - dense_190_loss: 4.3210 - dense_191_loss: 2.4692 - dense_192_loss: 1.0631 - dense_193_loss: 0.6516 - dense_194_loss: 0.4115 - dense_195_loss: 0.1715 - dense_196_loss: 0.0686 - dense_197_loss: 0.0343 - dense_198_loss: 1.1921e-07 - dense_199_loss: 1.1921e-07 - dense_200_loss: 1.1921e-07 - dense_201_loss: 1.1921e-07 - dense_202_loss: 1.1921e-07 - dense_203_loss: 1.1921e-07 - dense_181_acc: 0.0681 - dense_182_acc: 0.1319 - dense_183_acc: 0.0766 - dense_184_acc: 0.0638 - dense_185_acc: 0.0872 - dense_186_acc: 0.1340 - dense_187_acc: 0.0362 - dense_188_acc: 0.4340 - dense_189_acc: 0.5979 - dense_190_acc: 0.7319 - dense_191_acc: 0.8468 - dense_192_acc: 0.9340 - dense_193_acc: 0.9596 - dense_194_acc: 0.9745 - dense_195_acc: 0.9894 - dense_196_acc: 0.9957 - dense_197_acc: 0.9979 - dense_198_acc: 1.0000 - dense_199_acc: 1.0000 - dense_200_acc: 1.0000 - dense_201_acc: 1.0000 - dense_202_acc: 1.0000 - dense_203_acc: 1.0000 - val_loss: 127.7283 - val_dense_181_loss: 15.2058 - val_dense_182_loss: 13.9893 - val_dense_183_loss: 14.9016 - val_dense_184_loss: 14.9016 - val_dense_185_loss: 14.2934 - val_dense_186_loss: 14.9016 - val_dense_187_loss: 15.2058 - val_dense_188_loss: 8.8193 - val_dense_189_loss: 6.6905 - val_dense_190_loss: 2.7370 - val_dense_191_loss: 2.4329 - val_dense_192_loss: 1.8247 - val_dense_193_loss: 1.5206 - val_dense_194_loss: 0.3041 - val_dense_195_loss: 1.1921e-07 - val_dense_196_loss: 1.1921e-07 - val_dense_197_loss: 1.1921e-07 - val_dense_198_loss: 1.1921e-07 - val_dense_199_loss: 1.1921e-07 - val_dense_200_loss: 1.1921e-07 - val_dense_201_loss: 1.1921e-07 - val_dense_202_loss: 1.1921e-07 - val_dense_203_loss: 1.1921e-07 - val_dense_181_acc: 0.0566 - val_dense_182_acc: 0.1321 - val_dense_183_acc: 0.0755 - val_dense_184_acc: 0.0755 - val_dense_185_acc: 0.1132 - val_dense_186_acc: 0.0755 - val_dense_187_acc: 0.0566 - val_dense_188_acc: 0.4528 - val_dense_189_acc: 0.5849 - val_dense_190_acc: 0.8302 - val_dense_191_acc: 0.8491 - val_dense_192_acc: 0.8868 - val_dense_193_acc: 0.9057 - val_dense_194_acc: 0.9811 - val_dense_195_acc: 1.0000 - val_dense_196_acc: 1.0000 - val_dense_197_acc: 1.0000 - val_dense_198_acc: 1.0000 - val_dense_199_acc: 1.0000 - val_dense_200_acc: 1.0000 - val_dense_201_acc: 1.0000 - val_dense_202_acc: 1.0000 - val_dense_203_acc: 1.0000\n",
      "Epoch 14/15\n",
      "115s - loss: 128.0531 - dense_181_loss: 15.0207 - dense_182_loss: 13.9919 - dense_183_loss: 14.8835 - dense_184_loss: 15.1579 - dense_185_loss: 14.7121 - dense_186_loss: 13.9576 - dense_187_loss: 15.5351 - dense_188_loss: 9.1222 - dense_189_loss: 6.4815 - dense_190_loss: 4.3210 - dense_191_loss: 2.4692 - dense_192_loss: 1.0631 - dense_193_loss: 0.6516 - dense_194_loss: 0.4115 - dense_195_loss: 0.1715 - dense_196_loss: 0.0686 - dense_197_loss: 0.0343 - dense_198_loss: 1.1921e-07 - dense_199_loss: 1.1921e-07 - dense_200_loss: 1.1921e-07 - dense_201_loss: 1.1921e-07 - dense_202_loss: 1.1921e-07 - dense_203_loss: 1.1921e-07 - dense_181_acc: 0.0681 - dense_182_acc: 0.1319 - dense_183_acc: 0.0766 - dense_184_acc: 0.0596 - dense_185_acc: 0.0872 - dense_186_acc: 0.1340 - dense_187_acc: 0.0362 - dense_188_acc: 0.4340 - dense_189_acc: 0.5979 - dense_190_acc: 0.7319 - dense_191_acc: 0.8468 - dense_192_acc: 0.9340 - dense_193_acc: 0.9596 - dense_194_acc: 0.9745 - dense_195_acc: 0.9894 - dense_196_acc: 0.9957 - dense_197_acc: 0.9979 - dense_198_acc: 1.0000 - dense_199_acc: 1.0000 - dense_200_acc: 1.0000 - dense_201_acc: 1.0000 - dense_202_acc: 1.0000 - dense_203_acc: 1.0000 - val_loss: 127.7283 - val_dense_181_loss: 15.2058 - val_dense_182_loss: 13.9893 - val_dense_183_loss: 14.9016 - val_dense_184_loss: 14.9016 - val_dense_185_loss: 14.2934 - val_dense_186_loss: 14.9016 - val_dense_187_loss: 15.2058 - val_dense_188_loss: 8.8193 - val_dense_189_loss: 6.6905 - val_dense_190_loss: 2.7370 - val_dense_191_loss: 2.4329 - val_dense_192_loss: 1.8247 - val_dense_193_loss: 1.5206 - val_dense_194_loss: 0.3041 - val_dense_195_loss: 1.1921e-07 - val_dense_196_loss: 1.1921e-07 - val_dense_197_loss: 1.1921e-07 - val_dense_198_loss: 1.1921e-07 - val_dense_199_loss: 1.1921e-07 - val_dense_200_loss: 1.1921e-07 - val_dense_201_loss: 1.1921e-07 - val_dense_202_loss: 1.1921e-07 - val_dense_203_loss: 1.1921e-07 - val_dense_181_acc: 0.0566 - val_dense_182_acc: 0.1321 - val_dense_183_acc: 0.0755 - val_dense_184_acc: 0.0755 - val_dense_185_acc: 0.1132 - val_dense_186_acc: 0.0755 - val_dense_187_acc: 0.0566 - val_dense_188_acc: 0.4528 - val_dense_189_acc: 0.5849 - val_dense_190_acc: 0.8302 - val_dense_191_acc: 0.8491 - val_dense_192_acc: 0.8868 - val_dense_193_acc: 0.9057 - val_dense_194_acc: 0.9811 - val_dense_195_acc: 1.0000 - val_dense_196_acc: 1.0000 - val_dense_197_acc: 1.0000 - val_dense_198_acc: 1.0000 - val_dense_199_acc: 1.0000 - val_dense_200_acc: 1.0000 - val_dense_201_acc: 1.0000 - val_dense_202_acc: 1.0000 - val_dense_203_acc: 1.0000\n",
      "Epoch 15/15\n",
      "119s - loss: 127.8474 - dense_181_loss: 15.0207 - dense_182_loss: 13.9919 - dense_183_loss: 14.8835 - dense_184_loss: 14.9521 - dense_185_loss: 14.7121 - dense_186_loss: 13.9576 - dense_187_loss: 15.5351 - dense_188_loss: 9.1222 - dense_189_loss: 6.4815 - dense_190_loss: 4.3210 - dense_191_loss: 2.4692 - dense_192_loss: 1.0631 - dense_193_loss: 0.6516 - dense_194_loss: 0.4115 - dense_195_loss: 0.1715 - dense_196_loss: 0.0686 - dense_197_loss: 0.0343 - dense_198_loss: 1.1921e-07 - dense_199_loss: 1.1921e-07 - dense_200_loss: 1.1921e-07 - dense_201_loss: 1.1921e-07 - dense_202_loss: 1.1921e-07 - dense_203_loss: 1.1921e-07 - dense_181_acc: 0.0681 - dense_182_acc: 0.1319 - dense_183_acc: 0.0766 - dense_184_acc: 0.0723 - dense_185_acc: 0.0872 - dense_186_acc: 0.1340 - dense_187_acc: 0.0362 - dense_188_acc: 0.4340 - dense_189_acc: 0.5979 - dense_190_acc: 0.7319 - dense_191_acc: 0.8468 - dense_192_acc: 0.9340 - dense_193_acc: 0.9596 - dense_194_acc: 0.9745 - dense_195_acc: 0.9894 - dense_196_acc: 0.9957 - dense_197_acc: 0.9979 - dense_198_acc: 1.0000 - dense_199_acc: 1.0000 - dense_200_acc: 1.0000 - dense_201_acc: 1.0000 - dense_202_acc: 1.0000 - dense_203_acc: 1.0000 - val_loss: 127.7283 - val_dense_181_loss: 15.2058 - val_dense_182_loss: 13.9893 - val_dense_183_loss: 14.9016 - val_dense_184_loss: 14.9016 - val_dense_185_loss: 14.2934 - val_dense_186_loss: 14.9016 - val_dense_187_loss: 15.2058 - val_dense_188_loss: 8.8193 - val_dense_189_loss: 6.6905 - val_dense_190_loss: 2.7370 - val_dense_191_loss: 2.4329 - val_dense_192_loss: 1.8247 - val_dense_193_loss: 1.5206 - val_dense_194_loss: 0.3041 - val_dense_195_loss: 1.1921e-07 - val_dense_196_loss: 1.1921e-07 - val_dense_197_loss: 1.1921e-07 - val_dense_198_loss: 1.1921e-07 - val_dense_199_loss: 1.1921e-07 - val_dense_200_loss: 1.1921e-07 - val_dense_201_loss: 1.1921e-07 - val_dense_202_loss: 1.1921e-07 - val_dense_203_loss: 1.1921e-07 - val_dense_181_acc: 0.0566 - val_dense_182_acc: 0.1321 - val_dense_183_acc: 0.0755 - val_dense_184_acc: 0.0755 - val_dense_185_acc: 0.1132 - val_dense_186_acc: 0.0755 - val_dense_187_acc: 0.0566 - val_dense_188_acc: 0.4528 - val_dense_189_acc: 0.5849 - val_dense_190_acc: 0.8302 - val_dense_191_acc: 0.8491 - val_dense_192_acc: 0.8868 - val_dense_193_acc: 0.9057 - val_dense_194_acc: 0.9811 - val_dense_195_acc: 1.0000 - val_dense_196_acc: 1.0000 - val_dense_197_acc: 1.0000 - val_dense_198_acc: 1.0000 - val_dense_199_acc: 1.0000 - val_dense_200_acc: 1.0000 - val_dense_201_acc: 1.0000 - val_dense_202_acc: 1.0000 - val_dense_203_acc: 1.0000\n"
     ]
    },
    {
     "data": {
      "text/plain": [
       "<keras.callbacks.History at 0x37daf0cc0>"
      ]
     },
     "execution_count": 211,
     "metadata": {},
     "output_type": "execute_result"
    }
   ],
   "source": [
    "model = model_cnn.model\n",
    "model.compile(loss = 'categorical_crossentropy', optimizer='adam',metrics=['accuracy'])\n",
    "model.fit(X, Y_,\n",
    "          batch_size=64, nb_epoch=15, \n",
    "          validation_split=0.1,shuffle=True, verbose=2)\n",
    "#model.metrics\n",
    "        "
   ]
  },
  {
   "cell_type": "code",
   "execution_count": 245,
   "metadata": {
    "collapsed": false
   },
   "outputs": [],
   "source": [
    "y = model.predict(X[112:113])"
   ]
  },
  {
   "cell_type": "code",
   "execution_count": 246,
   "metadata": {
    "collapsed": false
   },
   "outputs": [
    {
     "name": "stdout",
     "output_type": "stream",
     "text": [
      "baariel                \n"
     ]
    }
   ],
   "source": [
    "s = \"\"\n",
    "for i in range(23):\n",
    "    s += rev_vocabulary[np.where(y[i][0]==1)[0][0]]\n",
    "print(s)"
   ]
  }
 ],
 "metadata": {
  "anaconda-cloud": {},
  "kernelspec": {
   "display_name": "Python 3",
   "language": "python",
   "name": "python3"
  },
  "language_info": {
   "codemirror_mode": {
    "name": "ipython",
    "version": 3
   },
   "file_extension": ".py",
   "mimetype": "text/x-python",
   "name": "python",
   "nbconvert_exporter": "python",
   "pygments_lexer": "ipython3",
   "version": "3.6.0"
  }
 },
 "nbformat": 4,
 "nbformat_minor": 1
}
